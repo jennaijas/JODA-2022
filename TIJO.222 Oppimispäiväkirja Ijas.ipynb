{
 "cells": [
  {
   "cell_type": "markdown",
   "id": "fa1ee964",
   "metadata": {},
   "source": [
    "# Viikko 1\n"
   ]
  },
  {
   "cell_type": "markdown",
   "id": "a33347ee",
   "metadata": {},
   "source": [
    "Olin paikalla ensimmäisellä luennolla 9.3., jolloin luennolla käytiin läpi kurssin sisältöä sekä suoritusvaatimuksia ja tutustuttiin datatieteen perusteisiin. Vaikka luennolla ei tullut itselleni paljoakaan uutta asiaa, luento kasvatti mielenkiintoani ja motivaatiotani kurssin suorittamista kohtaan.\n",
    "\n",
    "Tietojohtamisen opiskelijana moni asia oli minulle tuttua, esimerkiksi tiedon tasot ja luennolla esitetyt mallit (Data Science Lifecyclen lisäksi myös CRISP-DM-malli esitellään TIJO.220 Basics for Business Data Analytics-kurssilla), mutta mukana oli myös hieman uusia näkökulmia. Muita malleja, joihin kursseilla on viitattu, ovat esimerkiksi APREM-DM ja LTDM. Suoritan tällä hetkellä TIJO.324 Data-analytiikka päätöksenteossa-kurssia, jossa aloitusluennolla käytiin hyvin samanlaisia teemoja läpi, mutta esimerkiksi datatieteilijän kompetensseissa oli huomioitu vain matematiikka, ohjelmointi ja liiketoiminta. Mielestäni tämän kurssin materiaalissa esitetty Venn-diagrammi antaa todenmukaisemman kuvan, sillä viestintä on todella tärkeä taito datatieteilijälle: Analyysin tulokset on osattava viestiä ja visualisoida onnistuneesti, jotta niistä on päätöksentekijöille hyötyä. Vaikka koko muu data-analytiikan prosessi oltaisiin tehty täydellisesti, voi huono viestintä aiheuttaa sen, että saavutettu hyöty on yhtä tyhjän kanssa.\n",
    "\n",
    "Luentomateriaalissa esiin tuotu Hans Roslingin video on erinomainen, ja tuo hyvin esiin sen, että datatieteilijällä on valta valita, millaisesta näkökulmasta hän lähtee tutkimaan dataa. Analyytikon valinnoilla voi olla suuri vaikutus, siihen miltä löydökset näyttävät lopussa, vaikka hän ei itse edes huomaisi, miten on lopputulokseen vaikuttanut. Tähän liittyy vahvasti dataan liittyvät eettiset kysymykset, joita Lou ja Yang (2020) käsittelivät artikkelissaan. Erityisesti terveystietoja käsittelevä data on mielestäni hyvin arkaluonteista ja artikkelissa olikin tästä hyvä esimerkki, kuinka apteekit ovat käyttäneet saamaansa terveysdataa markkinoidakseen tuotteita kohdistetusti.\n",
    "\n",
    "Viittaus etnografiaan oli mielenkiintoinen. Olen sivuaineena opiskellut sosiaalitieteitä ja muun muassa antropologiaa, jossa etnografinen tutkimus on aivan keskiössä. Ennen vertauksen kuulemista pidin antropologin ja data-analyytikon työtehtäviä suurin piirtein niin erilaisina kuin mahdollista, mutta on hyvinkin totta, että dataa tutkiessa on ymmärrettävä mistä se on peräisin, millaisia asioita datasta halutaan selvittää eli millainen data on arvokasta ja tärkeää sekä ymmärtää ympäröivä liiketoimintakonteksti. Samoin antropologi haluaa ihmisryhmää seuratessaan oppia ymmärtämään ryhmän historiaa, arvoja, kulttuuria ja ympäristöä. Metodit ihmisryhmien ja datan tutkimiseen voivat olla erilaiset, mutta ydinkysymykset tutkimisessa ovat yllättävän lähellä toisiaan. Koska aihe oli niin mielenkiintoinen, tutustuin luennolla vinkattuun Lindgrenin \"Data Theory\"-kirjaan (kirja löytyi Andorista). Kirjassa korostettiin muun muassa sitä, että laadullisia ja määrällisiä menetelmiä voi olla vaikea soveltaa yhdessä, mutta tällainen tutkimus olisi ensiarvoisen tärkeää, sillä ilman molempia tutkimustapoja esimerkiksi sosiaalisista ilmiöistä tulee yksipuolinen kuva.\n",
    "\n",
    "Tavoitteinani kurssille on oppia käyttämään uusia työkaluja (mm. Jupyter Notebook, Pandas), parantaa koodaustaitojani, oppia koneoppimisen perusteita ja harjoitella harjoitustyön kautta, miten käytännössä data-analytiikkaa voidaan tehdä. Tekninen osaamiseni ei ole kovin vahvaaa, joten pyrin keskittymään kurssilla erityisten uusien työkalujen oppimiseen ja teknisen ymmärtämisen kasvattamiseen."
   ]
  },
  {
   "cell_type": "markdown",
   "id": "baa922de",
   "metadata": {},
   "source": [
    "Seuraavaki teen yksinkertaisia koodiajoja demo-sessiossa oppimani pohjalta. Koodien pohjana käytetään demosessiossa käytettyjä koodeja."
   ]
  },
  {
   "cell_type": "code",
   "execution_count": 12,
   "id": "9e0d5331-969a-4f80-84cc-3fd4ff9f6377",
   "metadata": {},
   "outputs": [],
   "source": [
    "import pandas as pd\n",
    "import matplotlib.pyplot as plt\n",
    "from matplotlib import style\n",
    "style.use('ggplot')"
   ]
  },
  {
   "cell_type": "code",
   "execution_count": 6,
   "id": "b5dfb032-d8d0-4a41-bd12-86b46a47392d",
   "metadata": {},
   "outputs": [
    {
     "name": "stdout",
     "output_type": "stream",
     "text": [
      "List of attributes: ['Transaction_date', 'Product', 'Price', 'Payment_Type', 'Name', 'City', 'State', 'Country', 'Account_Created', 'Last_Login', 'Latitude', 'Longitude']\n"
     ]
    }
   ],
   "source": [
    "url = 'https://github.com/jodatut/2020/raw/master/koodiesimerkit/SalesJan2009.csv'\n",
    "\n",
    "orig_df = pd.read_csv(url)\n",
    "\n",
    "# Tehdään kopio, jotta alkuperäinen data säilyy\n",
    "df = orig_df.copy()\n",
    "print('List of attributes:', df.columns.values.tolist())"
   ]
  },
  {
   "cell_type": "code",
   "execution_count": 13,
   "id": "be425f34-2784-456c-8e67-38bbb237c918",
   "metadata": {},
   "outputs": [
    {
     "name": "stdout",
     "output_type": "stream",
     "text": [
      "['United Kingdom', 'United States', 'Australia', 'Israel', 'France', 'Netherlands', 'Ireland', 'Canada', 'India', 'South Africa', 'Finland', 'Switzerland', 'Denmark', 'Belgium', 'Sweden', 'Norway', 'Luxembourg', 'Italy', 'Germany', 'Moldova', 'Spain', 'United Arab Emirates', 'Bahrain', 'Turkey', 'Kuwait', 'Malta', 'Hungary', 'Austria', 'Jersey', 'Malaysia', 'Iceland', 'South Korea', 'Brazil', 'New Zealand', 'Russia', 'Monaco', 'Hong Kong', 'Thailand', 'Bulgaria', 'Latvia', 'Poland', 'Philippines', 'Argentina', 'The Bahamas', 'Japan', 'Czech Republic', 'Cayman Isls', 'Ukraine', 'Dominican Republic', 'China', 'Greece', 'Costa Rica', 'Bermuda', 'Romania', 'Guatemala', 'Mauritius']\n"
     ]
    }
   ],
   "source": [
    "# Selvitetään, missä maissa transaktioita on tehty\n",
    "countries = []\n",
    "def country_list(x):\n",
    "    for x in df['Country']:\n",
    "        if x in countries:\n",
    "            pass\n",
    "        else:\n",
    "            countries.append(x)\n",
    "            \n",
    "country_list(df['Country'])\n",
    "        \n",
    "print (countries)  "
   ]
  },
  {
   "cell_type": "code",
   "execution_count": 16,
   "id": "d8fb989e-f2b1-40df-ad02-2719206d2c3b",
   "metadata": {},
   "outputs": [
    {
     "name": "stdout",
     "output_type": "stream",
     "text": [
      "United States           464\n",
      "United Kingdom          101\n",
      "Canada                   76\n",
      "Ireland                  49\n",
      "Australia                38\n",
      "Switzerland              36\n",
      "France                   27\n",
      "Germany                  25\n",
      "Netherlands              22\n",
      "Norway                   16\n",
      "Denmark                  15\n",
      "Italy                    15\n",
      "Sweden                   13\n",
      "Spain                    12\n",
      "Belgium                   8\n",
      "Austria                   7\n",
      "Turkey                    6\n",
      "New Zealand               6\n",
      "United Arab Emirates      6\n",
      "South Africa              5\n",
      "Brazil                    5\n",
      "Hungary                   3\n",
      "Czech Republic            3\n",
      "Philippines               2\n",
      "Poland                    2\n",
      "The Bahamas               2\n",
      "Finland                   2\n",
      "Japan                     2\n",
      "Malta                     2\n",
      "India                     2\n",
      "Thailand                  2\n",
      "Monaco                    2\n",
      "Cayman Isls               1\n",
      "Bermuda                   1\n",
      "Guatemala                 1\n",
      "Ukraine                   1\n",
      "Romania                   1\n",
      "China                     1\n",
      "Greece                    1\n",
      "Costa Rica                1\n",
      "Argentina                 1\n",
      "Dominican Republic        1\n",
      "Jersey                    1\n",
      "Latvia                    1\n",
      "Bulgaria                  1\n",
      "Hong Kong                 1\n",
      "Russia                    1\n",
      "South Korea               1\n",
      "Iceland                   1\n",
      "Malaysia                  1\n",
      "Kuwait                    1\n",
      "Bahrain                   1\n",
      "Moldova                   1\n",
      "Luxembourg                1\n",
      "Israel                    1\n",
      "Mauritius                 1\n",
      "Name: Country, dtype: int64\n"
     ]
    }
   ],
   "source": [
    "#Tehdään maakohtainen pylväsdiagrammi transaktioihin käytetyn rahan mukaan, jossa mukana 5 suosituinta maata\n",
    "\n",
    "# Selvitetään, kuinka paljon transaktioita on missäkin maassa\n",
    "payment_values = df['Country'].value_counts()\n",
    "print(payment_values)"
   ]
  },
  {
   "cell_type": "code",
   "execution_count": 17,
   "id": "e32ccf01",
   "metadata": {},
   "outputs": [
    {
     "data": {
      "image/png": "[encoded data removed]",
      "text/plain": [
       "<Figure size 936x576 with 1 Axes>"
      ]
     },
     "metadata": {},
     "output_type": "display_data"
    }
   ],
   "source": [
    "US = df.loc[:,['Price', 'Country']]\n",
    "US = US[US['Country'] == 'United States']\n",
    "\n",
    "UK = df.loc[:,['Price', 'Country']]\n",
    "UK = UK[UK['Country'] == 'United Kingdom']\n",
    "\n",
    "Canada = df.loc[:,['Price', 'Country']]\n",
    "Canada = Canada[Canada['Country'] == 'Canada']\n",
    "\n",
    "Ireland = df.loc[:,['Price', 'Country']]\n",
    "Ireland = Ireland[Ireland['Country'] == 'Ireland']\n",
    "\n",
    "Australia = df.loc[:,['Price', 'Country']]\n",
    "Australia = Australia[Australia['Country'] == 'Australia']\n",
    "\n",
    "sum_US = sum(US['Price'])\n",
    "sum_UK = sum(UK['Price'])\n",
    "sum_Canada = sum(Canada['Price'])\n",
    "sum_Ireland = sum(Ireland['Price'])\n",
    "sum_Australia = sum(Australia['Price'])\n",
    "\n",
    "df_plot = pd.DataFrame([[sum_US, sum_UK, sum_Canada, sum_Ireland, sum_Australia]])\n",
    "df_plot.columns = ['US', 'UK', 'Canada', 'Ireland', 'Australia']\n",
    "\n",
    "df_plot.plot.bar(figsize=(13,8))\n",
    "\n",
    "plt.legend(loc=2)\n",
    "plt.ylabel('Sum $')\n",
    "plt.show()"
   ]
  },
  {
   "cell_type": "markdown",
   "id": "ca6b0362-4534-4f63-afb5-49c146ce6cc1",
   "metadata": {},
   "source": [
    "Viisi tärkeintä asiaa tältä viikolta:\n",
    "1. Viestinnän rooli data-analytiikan prosessissa jää helposti huomiotta, vaikka se on todella tärkeä\n",
    "2. Jupyter Notebook on datan kanssa työskentelyyn hyvä työkalu, ja sillä on helppoa sekä ajaa koodia että tehdä visualisointeja\n",
    "3. CRISP-DM on yksi tunnetuimmista ja suosituimmista prosessikuvauksista, jota käytetään dataprosesseissa\n",
    "4. Datan kanssa työskentelevillä on myös vastuu datan käytöstä ja eettiset näkökulmiin kannattaa kiinnittää huomiota\n",
    "5. Etnografialla ja datatieteellä voidaan nähdä yllättäviä yhtäläisyyksiä"
   ]
  },
  {
   "cell_type": "markdown",
   "id": "bbe9ebfa-d26e-403e-a733-a5a1fb35c7a5",
   "metadata": {},
   "source": [
    "Lähteet:\n",
    "- Luento 9.3. (paikan päällä) + demosessio (katsottu tallenteelta)\n",
    "- Lou & Yang (2020) \"A Beginner's Guide to Data Ethics\" Saatavilla: https://medium.com/big-data-at-berkeley/things-you-need-to-know-before-you-become-a-data-scientist-a-beginners-guide-to-data-ethics-8f9aa21af742\n",
    "- Rosling \"The best stats you've ever seen\" TED-talk Saatavilla: https://www.ted.com/talks/hans_rosling_the_best_stats_you_ve_ever_seen\n",
    "- Lindgren (2020) \"Data Theory: Interpretive Sociology and Computational Methods\""
   ]
  },
  {
   "cell_type": "markdown",
   "id": "651be15f",
   "metadata": {},
   "source": [
    "# Viikko 2"
   ]
  },
  {
   "cell_type": "markdown",
   "id": "512e987e",
   "metadata": {},
   "source": [
    "Tällä viikolla kävimme aluksi vielä lyhyesti läpi erilaisia prosessimalleja, joita voidaan hyödyntää data-analyysissa. Vaikka asia ei ollut minulle täysin uutta, luento muistutti datan jalostamisen tärkeydestä ja siitä, että siihen kuluu usein suurin osa käytettävästä ajasta. Lisäksi luennoitsija antoi hyvän muistutuksen siitä, että datan jalostajan ennakko-oletukset vaikuttavat siihen, miten dataa jalostetaan. Tämä on mielestäni äärimmäisen tärkeää tiedostaa.\n",
    "\n",
    "Luennon ennakkolukemisena oli Scott Berinaton (2019) artikkeli, joka oli mielestäni hyvin mielenkiintoinen. Artikkelissa kuvattiin datatieteen muuttumista ajan saatossa ja analytiikkaprosessissa vastaan tulevia suurimpia ongelmia, jotka liittyvät usein raportointiin ja tulosten esittämiseen. Tämä johtuu siitä, että päätösten tekijät ja data-analyytikot eivät välttämättä ymmärrä toisiaan ja liiketoiminnan näkökulma ei välttämättä ole ollut prosessissa tarpeeksi suuressa valossa. Suurin oivallus artikkelissa oli itselleni kuitenkin se, että dataprojektitiimiä muodostettaessa kannattaa keskittyä ammattinimikkeiden sijaan ihmisten taitoihin, eli sen sijaan että tiimiin etsitään data-analyytikkoa, datainsinööriä ja designeria, etsitään projektiin taitoja projektin hallinnasta, datan käsittelystä, data-analyysista, tarinan kerronnasta ja niin edelleen. Tämä oli mielestäni virkistävä näkökulma ja ottaa hyvin huomioon sen, että esimerkiksi jokaisella yksilöllä on omat vahvuutensa. Vaikka nykyisillä opinnoillani tähtään data-analyytikon ammattiin, valmistuin muutamia vuosia sitten filosofian maisteriksi monikielisestä viestinnästä. Toivon, että tulevaisuuden työpaikassani minua ei nähtäisi pelkän \"data-analyytikon\"-tittelin kautta, vaan pystyisin mahdollisuuksien mukaan hyödyntämään myös viestinnän osaamistani. Luennollakin pohdimme, että kannattaako mieluummin erikoistua niin, että osaa jonkin asian todella hyvin, vai onko parempi omata laaja osaaminen eri asioista, jotka eivät mene niin syvälle. Itse kannatan jälkimmäistä ja nykyään työelämässä on tärkeää kehittää omaa osaamistaan jatkuvasti, joten on tärkeää myös oppia, miten uusia asioita opitaan ja olla motivoitunut tekemään niin.\n",
    "\n",
    "\n",
    "Luennolla mainittiin lyhyesti \"unknown unknows\" ja mustat joutsenet. Molemmat termit ovat itselleni tuttuja, ja pidän tärkeänä, että esimerkiksi tiedostamattomien ei-tiedettyjen asioiden (tai mikä ikinä olisikaan näppärä käännös...) olemassaolo tiedostetaan. Tällä en tarkoita, että nämä asiat pyrittäisiin kaikin keinoin löytämään, sillä se ei ole mahdollista, vaan oltaisiin tietoisia, että esimerkiksi projektin aikana vastaan voi tulla asioita, joihin ei voida varautua. Tietynlainen ketteryys ja resilienssi on siis pidettävä mielessä, vaikka projektin suunnittelu tehtäisiin mahdollisimman huolellisesti. Hyvä keino on suosittu \"scrum\", jota käytetään esimerkiksi ohjelmistoprojekteissa. Scrumin mukaan ohjelmaa luodaan pieni osa kerrallaan, ja tämä mahdollistaa tarvittaessa nopeat ja ketterät muutokset projektissa. Mustat joutsenet ovat puolestaan itselleni tuttu termi Talebin (2007) kirjoittamasta kirjasta \"Musta joutsen: Erittäin epätodennäköisen vaikutus\". Mustat joutsenet ovat odottamattomia ja erittäin epätodennäköisiä tapahtumia, joita Talebin mukaan kuitenkin todennäköisesti tapahtuu. Taleb käyttää kirjassaan esimerkkiä 9/11-iskusta, mutta mustiksi joutseniksi voidaan nähdä myös COVID-19 ja Ukrainan sota.\n",
    "\n",
    "Tällä viikolla opimme raapijoista ja ryömijöistä. Molemmat termit olivat itselleni uusia. Raapijoilla ja ryömijöillä saadaan kerättyä nettisivuilta dataa automatisoidusti. Ryömijä käy nettiosoitteita järjestelmällisesti läpi ja raapija kerää nettisivuilla olevat tiedot. Raapijoiden ja ryömijöiden käytössä on kuitenkin otettava huomioon niiden eettisyys: Osa nettisivuista ei halua, että niiden sisältöä kerätään. Tämä johtuu muun muassa siitä, että raavintaa käytetään usein tavoitteena saada liiketoiminnallista hyötyä, raavinnassa ei huomioida tekijänoikeuslakia tai sivujen käyttöehtoja ja raavinta voi olla nettisivulle haitallista, esimerkiksi lisätä sivun kuormitusta ja kiertää turvallisuustoimia (Bernard 2017).\n",
    "\n",
    "Seuraavaksi harjoittelin scrapy-kirjaston käyttöä demosession pohjalta. Yritin ensin käyttää osoitteena Tripadvisoria, mutta en saanut koodia jostain syystä toimimaan, joten lopulta päätin käyttää samanlaista koodia kuin koodiklinikalla."
   ]
  },
  {
   "cell_type": "code",
   "execution_count": 2,
   "id": "b9fbd318",
   "metadata": {},
   "outputs": [
    {
     "name": "stdout",
     "output_type": "stream",
     "text": [
      "Created spider 'amazon_scraper1' using template 'basic' \n"
     ]
    }
   ],
   "source": [
    "!scrapy genspider amazon_scraper1 amazon.com\n",
    "\n",
    "import scrapy\n",
    "\n",
    "class AmazonScraperSpider(scrapy.Spider):\n",
    "    name = 'amazon_scraper'\n",
    "    allowed_domains = ['amazon.com']\n",
    "    sstart_urls = ['https://www.amazon.com/Apple-iPhone-Verizon-Unlocked-Renewed/product-reviews/B07HYDFX8G/ref=cm_cr_arp_d_viewopt_srt?ie=UTF8&reviewerType=all_reviews&sortBy=helpful&pageNumber=1%27]']\n",
    "    \n",
    "    def parse(self, response):\n",
    "        \n",
    "        review_texts = response.css('.a-size-base.review-text')\n",
    "        \n",
    "        for i in range(len(review_texts)):\n",
    "            review_texts[i] = \"\".join(review_texts[i].css('::text').extract()).strip()\n",
    "\n",
    "        review_ratings = response.css('[data-hook=\"review-date\"] > span::text').extract()\n",
    "\n",
    "        for i in range(len(review_texts)):\n",
    "            review = {\n",
    "                'text' : review_texts[i],\n",
    "                'date': review_date[i]\n",
    "            }\n",
    "            yield review\n",
    "         next_page_url = response.css('.a-last > a::attr(href)').extract_first()\n",
    "        yield response.follow(next_page_url, self.parse)   \n",
    "        "
   ]
  },
  {
   "cell_type": "markdown",
   "id": "dbd903ad",
   "metadata": {},
   "source": [
    "Viisi tärkeää asiaa\n",
    "1. Raapijat ja ryömijät keräävät dataa nettisivuilta automaattisesti\n",
    "2. Niiden käyttö ei kuitenkaan aina ole eettistä\n",
    "3. Liiketoiminnan näkökulman olisi syytä olla vahvasti mukana kaikessa yrityksissä tehtävässä data-analytiikassa\n",
    "4. Titteleiden sijaan pitäisi keskittyä kompetensseihin\n",
    "5. On todennäköistä, että maailmassa tapahtuu kaikenlaista epätodennäköistä"
   ]
  },
  {
   "cell_type": "markdown",
   "id": "88b4310e",
   "metadata": {},
   "source": [
    "Lähteet:\n",
    "- Luento 16.3. (katsottu tallenteelta) + demosessio 18.3. (katsottu tallenteelta) \n",
    "-Berinato, S (2019). \"Data Science and the Art of Persuasion\". Harvard Business Review. Saatavilla:https://hbr.org/2019/01/data-science-and-the-art-of-persuasion?utm_campaign=hbr&utm_medium=social&utm_source=twitter \n",
    "-Bernard, B (2017). \"Web Scraping and Crawling Are Perfectly Legal, Right?\" Blogiteksti. Saatavilla: https://benbernardblog.com/web-scraping-and-crawling-are-perfectly-legal-right/\n",
    "-Taleb, N (2007). \"Musta joutsen: Erittäin epätodennäköisen vaikutus\". Helsinki: Terra Cognita."
   ]
  },
  {
   "cell_type": "markdown",
   "id": "757b0ecb",
   "metadata": {},
   "source": [
    "# Viikko 3"
   ]
  },
  {
   "cell_type": "markdown",
   "id": "e76a8d9b",
   "metadata": {},
   "source": [
    "Ennen luentoa tehtävänä oli lukea Huhtamäen ja Laaksosen artikkeli, joka esitteli erilaisia piirteitä, joita voidaan tutkia sosiaalisen median analytiikassa. Kaikki sosiaalisen median analytiikka perustuu piirteisiin, jotka ovat sosiaalisen median käyttäjien ja sisältöjen ominaisuuksia. Esimerkkejä piirteista voisivat olla instagramin kuvan sisältö (onko kuvassa esim. koira tai kuva aamupalapöydästä) tai erilaiset tekstin piirteet kuten käytetyt sanat, aihetunnisteet tai tekstin sävy. Piirteiden avulla laadullisesta tiedosta voidaan tuottaa laskennallista tietoa ja opettaa koneoppimisen algortimeille mielenkiintoisia ilmiöitä.\n",
    "\n",
    "Olen sitä mieltä, että piirteiden hyödyntäminen ja tutkiminen on hyödyllistä ja mielenkiintoista, mutta artikkelin lukemisen jälkeen tunsin oloni hieman skeptiseksi esimerkiksi sentimenttianalyysikirjaston toimivuutta kohtaan. En tietysti tunne kirjaston toimintamekaniikkaa hyvin, mutta mutun pohjalta tuntuisi vaikealta opettaa kone oikeasti tunnistamaan twiittien sävyjä. Tietysti sanoja voi luokitella positiivisiin ja negatiivisiin sävyihin, mutta se ei aina välttämättä riitä. Käytän itse Twitteriä päivittäin, ja vastaan tulee paljon humoristisia, ironisia tai muuten kekseliäitä postauksia, jotka saattavat olla jopa mahdottomia tulkita koneelle. Sanojen lisäksi koneen pitäisi tulkita postauskontekstia (onko twiitti vastaus johonkin edeltävään twiittiin, jotka pitäisi tulkita yhdessä?), mikä on postausaika (jos klo 5 aamuyöstä twiitattu \"Nyt nukkumaan, hyvää yötä!\"- postauksella on eri sävy kuin jos sen postaa klo 22 illasta. Toisaalta myös \"Voi että mikä sää!\"-postaus voi tarkoittaa mitä tahansa säästä riippuen), kuka twiitin postaaja on (onko tili esimerkiksi koomikon tili, jolloin twiittejä ei kannata tulkita aina tosissaan vai valtion viraston tili) ja muut \"rivien välissä\" olevat asiat, jotka ovat vaikeita opettaa koneelle. Myös erilaiset sanaleikit ja meemit ovat varmasti haastavaa materiaalia. Vaikka nämä tällä hetkellä tuntuvat suurilta haasteilta, ala kehittyy voimakkaasti, joten jään mielenkiinnolla odottamaan, millaista kehitystä tulemme näkemään seuraavien kymmenien vuosien aikana.\n",
    "\n",
    "Luennolla puhuttiin koneoppimisen periaatteista ja ohjatusta oppimisesta. Ohjatussa oppimisessa ensin  ohjelmaan syötetään olemassa olevaa dataa, ja tämän jälkeen tarkistetaan, kuinka paljon saadaan oikein tai \"osumia\" koneoppimisen avulla. Kun ohjelma on oppinut tarpeeksi tarkaksi, testataan \"oikealla\" datalla ennustamista. Ohjattuun oppimiseen liittyy esimerkiksi regressio.\n",
    "\n",
    "Koneoppimiseen ja laskennalliseen analytiikkaan liittyy esilukemistossakin esitellyt piirteet. Tärkeää on erilaisten piirteiden tunnistaminen, jota voidaan tehdä esimerkiksi standardoinnilla, kohinan poistolla, ulottuvuuksien vähentämisellä tai toisaalta myös ulottuvuuksien kasvattamisella. Menetelmän valinta riippuu lähtödatan tyypistä.\n",
    "\n",
    "Luennolla mieleeni tuli muutamiakin esimerkkejä koneoppimisen epäonnistumisesta ja sen käyttämisestä epäeettisiin asioihin. Olin muutamia vuosia sitten vaihdossa Kiinassa, jossa on yleistä, että valvontaa on paljon ja ihmisten tunnistamiseen käytetään aktiivisesti koneoppimista ja kasvojen tunnistamista. Tämä ei ole mielestäni kovin eettistä, mutta Kiinassa lupia ei tarvitse kansalaisilta kysellä. Erään suuren kaupungin liikenneristeyksessä oli suuri mainostaulu, jossa oli liikennekameran ottamia kuvia henkilöistä, jotka esimerkiksi olivat kyseisessä ristyeksessä ajaneet polkupyörällä päin punaisia. Kuvan vieressä oli myös perustiedot kyseisistä henkilöistä, kuten nimi, ikä ja rikkomuksen ajankohta. Kiinassa, jossa kasvojen menettäminen on suuri häpeä, tämä voi toisaalta olla tehokas tapa saada ihmiset noudattamaan liikennesääntöjä, mutta toisaalta mielestäni hieman kyseenalaista. Toisaalta valvontaa tehdään vielä tätäkin laajemmin esimerkiksi Tiibetissä ja Uiguurien asuttamassa Xinjiangissa, jossa päätarkoituksena ei ole liikenteen turvaaminen vaan jopa vähemmistöjen sortaminen.\n",
    "\n",
    "Toisaalta koneoppiminen ei aina toimi aivan aukottomasti. Kiinassa maksaminen on jo pitkään toiminut kaikkialla mobiilisti ja viimevuosien aikana on siirrytty jopa kasvoilla maksamiseen, eli kauppojen kassoilla on kamera, joka tunnistaa kassalla olevan henkilön kasvot ja yhdistää tiedon henkilön kiinalaiseen pankkitiliin. Tällainen maksaminen on yleensä nopeaa ja helppoa. Kiinassa asuva suomalainen ystäväni kertoi, että algoritmi on kuitenkin kehitetty toimimaan erityisesti kiinalaisille, ja hänelle oli esimerkiksi kerran käynyt niin, että hän oli ostanut limsa-automaatista juomaa, mutta maksutilanteessa automaatti ei ollut tunnistanut hänen naamaansa, vaan veloittanut maksun takana seisovalta kiinalaiselta, jonka kasvot kone osasi tunnistaa paremmin.\n",
    "\n",
    "Seuraavaksi sovelletaan demosessiossa opitun testailua."
   ]
  },
  {
   "cell_type": "code",
   "execution_count": 83,
   "id": "48ce78aa",
   "metadata": {},
   "outputs": [
    {
     "name": "stdout",
     "output_type": "stream",
     "text": [
      "Requirement already satisfied: sklearn in c:\\users\\jenna\\anaconda3\\lib\\site-packages (0.0)\n",
      "Requirement already satisfied: scikit-learn in c:\\users\\jenna\\anaconda3\\lib\\site-packages (from sklearn) (0.24.2)\n",
      "Requirement already satisfied: threadpoolctl>=2.0.0 in c:\\users\\jenna\\anaconda3\\lib\\site-packages (from scikit-learn->sklearn) (2.2.0)\n",
      "Requirement already satisfied: scipy>=0.19.1 in c:\\users\\jenna\\anaconda3\\lib\\site-packages (from scikit-learn->sklearn) (1.7.1)\n",
      "Requirement already satisfied: joblib>=0.11 in c:\\users\\jenna\\anaconda3\\lib\\site-packages (from scikit-learn->sklearn) (1.1.0)\n",
      "Requirement already satisfied: numpy>=1.13.3 in c:\\users\\jenna\\anaconda3\\lib\\site-packages (from scikit-learn->sklearn) (1.20.3)\n",
      "Requirement already satisfied: numpy in c:\\users\\jenna\\anaconda3\\lib\\site-packages (1.20.3)\n"
     ]
    }
   ],
   "source": [
    "#asennetaan ja tuodaan kaikki demosession kirjastot varmuuden vuoksi\n",
    "!pip install sklearn\n",
    "!pip install numpy\n",
    "import numpy as np\n",
    "import matplotlib.pyplot as plt\n",
    "import pandas as pd\n",
    "from sklearn import preprocessing\n",
    "from sklearn.impute import SimpleImputer as Imputer\n",
    "from sklearn.model_selection import train_test_split, cross_val_score\n",
    "from sklearn.metrics import mean_squared_error, accuracy_score\n",
    "from sklearn.linear_model import SGDClassifier, LogisticRegression\n",
    "from sklearn.svm import SVC\n",
    "\n",
    "from warnings import filterwarnings\n",
    "filterwarnings('ignore')"
   ]
  },
  {
   "cell_type": "code",
   "execution_count": 84,
   "id": "7edf21d0",
   "metadata": {},
   "outputs": [
    {
     "data": {
      "text/html": [
       "<div>\n",
       "<style scoped>\n",
       "    .dataframe tbody tr th:only-of-type {\n",
       "        vertical-align: middle;\n",
       "    }\n",
       "\n",
       "    .dataframe tbody tr th {\n",
       "        vertical-align: top;\n",
       "    }\n",
       "\n",
       "    .dataframe thead th {\n",
       "        text-align: right;\n",
       "    }\n",
       "</style>\n",
       "<table border=\"1\" class=\"dataframe\">\n",
       "  <thead>\n",
       "    <tr style=\"text-align: right;\">\n",
       "      <th></th>\n",
       "      <th>id</th>\n",
       "      <th>name</th>\n",
       "      <th>host_id</th>\n",
       "      <th>host_name</th>\n",
       "      <th>neighbourhood_group</th>\n",
       "      <th>neighbourhood</th>\n",
       "      <th>latitude</th>\n",
       "      <th>longitude</th>\n",
       "      <th>room_type</th>\n",
       "      <th>price</th>\n",
       "      <th>minimum_nights</th>\n",
       "      <th>number_of_reviews</th>\n",
       "      <th>last_review</th>\n",
       "      <th>reviews_per_month</th>\n",
       "      <th>calculated_host_listings_count</th>\n",
       "      <th>availability_365</th>\n",
       "      <th>number_of_reviews_ltm</th>\n",
       "      <th>license</th>\n",
       "    </tr>\n",
       "  </thead>\n",
       "  <tbody>\n",
       "    <tr>\n",
       "      <th>66636</th>\n",
       "      <td>53709893</td>\n",
       "      <td>Private 3 bedroom Crystal palace in high street</td>\n",
       "      <td>96150452</td>\n",
       "      <td>Thananthorn(May)</td>\n",
       "      <td>NaN</td>\n",
       "      <td>Croydon</td>\n",
       "      <td>51.419345</td>\n",
       "      <td>-0.079681</td>\n",
       "      <td>Entire home/apt</td>\n",
       "      <td>120</td>\n",
       "      <td>2</td>\n",
       "      <td>0</td>\n",
       "      <td>NaN</td>\n",
       "      <td>NaN</td>\n",
       "      <td>13</td>\n",
       "      <td>253</td>\n",
       "      <td>0</td>\n",
       "      <td>NaN</td>\n",
       "    </tr>\n",
       "    <tr>\n",
       "      <th>66637</th>\n",
       "      <td>53710986</td>\n",
       "      <td>Chiswick Park 3 bed 2 bath, Chiswick, West London</td>\n",
       "      <td>125392965</td>\n",
       "      <td>Lawrence</td>\n",
       "      <td>NaN</td>\n",
       "      <td>Ealing</td>\n",
       "      <td>51.502002</td>\n",
       "      <td>-0.276895</td>\n",
       "      <td>Entire home/apt</td>\n",
       "      <td>288</td>\n",
       "      <td>3</td>\n",
       "      <td>0</td>\n",
       "      <td>NaN</td>\n",
       "      <td>NaN</td>\n",
       "      <td>10</td>\n",
       "      <td>260</td>\n",
       "      <td>0</td>\n",
       "      <td>NaN</td>\n",
       "    </tr>\n",
       "    <tr>\n",
       "      <th>66638</th>\n",
       "      <td>53711668</td>\n",
       "      <td>Shabby Chic 2 Beds Bungalow in Woodgreen</td>\n",
       "      <td>285590054</td>\n",
       "      <td>About The Stay With Jenny</td>\n",
       "      <td>NaN</td>\n",
       "      <td>Haringey</td>\n",
       "      <td>51.599308</td>\n",
       "      <td>-0.114763</td>\n",
       "      <td>Entire home/apt</td>\n",
       "      <td>104</td>\n",
       "      <td>5</td>\n",
       "      <td>0</td>\n",
       "      <td>NaN</td>\n",
       "      <td>NaN</td>\n",
       "      <td>3</td>\n",
       "      <td>73</td>\n",
       "      <td>0</td>\n",
       "      <td>NaN</td>\n",
       "    </tr>\n",
       "    <tr>\n",
       "      <th>66639</th>\n",
       "      <td>53712786</td>\n",
       "      <td>Outstanding Luxury 2Bed 2.5Bath Notting Hill Gate</td>\n",
       "      <td>379423186</td>\n",
       "      <td>Matthew</td>\n",
       "      <td>NaN</td>\n",
       "      <td>Kensington and Chelsea</td>\n",
       "      <td>51.510407</td>\n",
       "      <td>-0.193729</td>\n",
       "      <td>Entire home/apt</td>\n",
       "      <td>402</td>\n",
       "      <td>7</td>\n",
       "      <td>0</td>\n",
       "      <td>NaN</td>\n",
       "      <td>NaN</td>\n",
       "      <td>6</td>\n",
       "      <td>365</td>\n",
       "      <td>0</td>\n",
       "      <td>NaN</td>\n",
       "    </tr>\n",
       "    <tr>\n",
       "      <th>66640</th>\n",
       "      <td>53713050</td>\n",
       "      <td>One bedroom apartment in Elephant &amp; Castle</td>\n",
       "      <td>50095820</td>\n",
       "      <td>Dario</td>\n",
       "      <td>NaN</td>\n",
       "      <td>Southwark</td>\n",
       "      <td>51.491864</td>\n",
       "      <td>-0.098225</td>\n",
       "      <td>Entire home/apt</td>\n",
       "      <td>70</td>\n",
       "      <td>2</td>\n",
       "      <td>0</td>\n",
       "      <td>NaN</td>\n",
       "      <td>NaN</td>\n",
       "      <td>4</td>\n",
       "      <td>85</td>\n",
       "      <td>0</td>\n",
       "      <td>NaN</td>\n",
       "    </tr>\n",
       "  </tbody>\n",
       "</table>\n",
       "</div>"
      ],
      "text/plain": [
       "             id                                               name    host_id  \\\n",
       "66636  53709893    Private 3 bedroom Crystal palace in high street   96150452   \n",
       "66637  53710986  Chiswick Park 3 bed 2 bath, Chiswick, West London  125392965   \n",
       "66638  53711668           Shabby Chic 2 Beds Bungalow in Woodgreen  285590054   \n",
       "66639  53712786  Outstanding Luxury 2Bed 2.5Bath Notting Hill Gate  379423186   \n",
       "66640  53713050         One bedroom apartment in Elephant & Castle   50095820   \n",
       "\n",
       "                       host_name  neighbourhood_group           neighbourhood  \\\n",
       "66636           Thananthorn(May)                  NaN                 Croydon   \n",
       "66637                   Lawrence                  NaN                  Ealing   \n",
       "66638  About The Stay With Jenny                  NaN                Haringey   \n",
       "66639                    Matthew                  NaN  Kensington and Chelsea   \n",
       "66640                      Dario                  NaN               Southwark   \n",
       "\n",
       "        latitude  longitude        room_type  price  minimum_nights  \\\n",
       "66636  51.419345  -0.079681  Entire home/apt    120               2   \n",
       "66637  51.502002  -0.276895  Entire home/apt    288               3   \n",
       "66638  51.599308  -0.114763  Entire home/apt    104               5   \n",
       "66639  51.510407  -0.193729  Entire home/apt    402               7   \n",
       "66640  51.491864  -0.098225  Entire home/apt     70               2   \n",
       "\n",
       "       number_of_reviews last_review  reviews_per_month  \\\n",
       "66636                  0         NaN                NaN   \n",
       "66637                  0         NaN                NaN   \n",
       "66638                  0         NaN                NaN   \n",
       "66639                  0         NaN                NaN   \n",
       "66640                  0         NaN                NaN   \n",
       "\n",
       "       calculated_host_listings_count  availability_365  \\\n",
       "66636                              13               253   \n",
       "66637                              10               260   \n",
       "66638                               3                73   \n",
       "66639                               6               365   \n",
       "66640                               4                85   \n",
       "\n",
       "       number_of_reviews_ltm  license  \n",
       "66636                      0      NaN  \n",
       "66637                      0      NaN  \n",
       "66638                      0      NaN  \n",
       "66639                      0      NaN  \n",
       "66640                      0      NaN  "
      ]
     },
     "execution_count": 84,
     "metadata": {},
     "output_type": "execute_result"
    }
   ],
   "source": [
    "df = pd.read_csv(\"london_listings.csv\")\n",
    "df.tail()"
   ]
  },
  {
   "cell_type": "code",
   "execution_count": 85,
   "id": "160f4127",
   "metadata": {},
   "outputs": [
    {
     "name": "stdout",
     "output_type": "stream",
     "text": [
      "<class 'pandas.core.frame.DataFrame'>\n",
      "RangeIndex: 66641 entries, 0 to 66640\n",
      "Data columns (total 18 columns):\n",
      " #   Column                          Non-Null Count  Dtype  \n",
      "---  ------                          --------------  -----  \n",
      " 0   id                              66641 non-null  int64  \n",
      " 1   name                            66617 non-null  object \n",
      " 2   host_id                         66641 non-null  int64  \n",
      " 3   host_name                       66582 non-null  object \n",
      " 4   neighbourhood_group             0 non-null      float64\n",
      " 5   neighbourhood                   66641 non-null  object \n",
      " 6   latitude                        66641 non-null  float64\n",
      " 7   longitude                       66641 non-null  float64\n",
      " 8   room_type                       66641 non-null  object \n",
      " 9   price                           66641 non-null  int64  \n",
      " 10  minimum_nights                  66641 non-null  int64  \n",
      " 11  number_of_reviews               66641 non-null  int64  \n",
      " 12  last_review                     48082 non-null  object \n",
      " 13  reviews_per_month               48082 non-null  float64\n",
      " 14  calculated_host_listings_count  66641 non-null  int64  \n",
      " 15  availability_365                66641 non-null  int64  \n",
      " 16  number_of_reviews_ltm           66641 non-null  int64  \n",
      " 17  license                         0 non-null      float64\n",
      "dtypes: float64(5), int64(8), object(5)\n",
      "memory usage: 9.2+ MB\n"
     ]
    }
   ],
   "source": [
    "df.info()"
   ]
  },
  {
   "cell_type": "code",
   "execution_count": null,
   "id": "da22f952",
   "metadata": {
    "scrolled": false
   },
   "outputs": [],
   "source": []
  },
  {
   "cell_type": "markdown",
   "id": "d508d602",
   "metadata": {},
   "source": [
    "Viisi tärkeää asiaa:\n",
    "1. Piirteiden tunnistaminen on koneoppimisessa tärkeää\n",
    "2. Ohjatussa oppimisessa ohjelmaa opetetaan datalla, ja tämän jälkeen testataan testidatalla, kuinka hyvin oppimista on tapahtunut\n",
    "3. Piirteiden tunnistamisessa voidaan käyttää esimerkiksi standardointia tai kohinan poistoa\n",
    "4. Koneoppiminen ei saa olla itseisarvo\n",
    "5. Esimerkiksi kasvojen tunnistamiseen liittyy eettisiä ongelmia"
   ]
  },
  {
   "cell_type": "markdown",
   "id": "e0b55b52",
   "metadata": {},
   "source": [
    "Lähteet:\n",
    "- Luento 23.3. (katsottu tallenteelta) + demosessio 25.3. (katsottu tallenteelta)\n",
    "- Huhtamäki, J. & Laaksonen, S. (2017). Näin laadullinen tieto jalostuu laskennalliseksi: piirteet sosiaalisen median analytiikassa"
   ]
  },
  {
   "cell_type": "markdown",
   "id": "802cf27c",
   "metadata": {},
   "source": [
    "# Viikko 4"
   ]
  },
  {
   "cell_type": "markdown",
   "id": "ceabff55",
   "metadata": {},
   "source": [
    "Luennolla kävimme läpi konkretian kautta datatiedeprosessin ensimmäistä vaihetta, eli pohdimme muun muassa millaisiin kysymyksiin harjoitustyössä lähdetään etsimään vastauksia. Vaikka CRISP-DM malli on itselleni jo teoriassa hyvin tuttu, oli mielestäni hyvä muistuttaa vielä kerran, että datatiedeprosesseissa pitäisi lähteä aina siitä, että mietitään mihin liiketoiminnan ongelmaan halutaan vastaus. Pohdimme pienryhmissä muun muassa sitä, millaisia palveluja eri asiakasryhmät haluavat AirBnB-asunnolta, millaisia eroja lyhyen ja pitkän aikavälin tarpeissa on ja minkä maalaisia asiakkaita tietyllä alueella/tiettyä asuntoa vuokraa. Nämä kaikki kysymykset vastaavat periaatteessa kysymyksiin \"miten asiakkaalle saadaan luotua mahdollisimman paljon arvoa?\", mutta tämä kysymys on todella laaja ja on siksi tarpeen tarkastella sitä pienemmissä osissa. Lisäksi voidaan nähdä, että kaikkien kysymysten perimmäisenä tarkoituksena on asunnon tarjoajan näkökulmasta kasvattaa asunnon houkuttelevuutta ja saada sen avulla enemmän asiakkaita. Asiakkaan näkökulmasta tavoitteena on tehdä entistä sopivampia asiakkaan tarpeisiin ja AirBnB tähtää siihen, että asunnon tarjoajan ja asunnon vuokraajan tarpeet täyttyvät mahdollisimman hyvin, jolloin palvelun käyttöä halutaan jatkaa myös tulevaisuudessa ja mahdollisesti myös suositella tuttaville.\n",
    "\n",
    "Mielenkiintoisia ongelmia, joita AirBnB-esimerkissä voisi tutkia: Ulkomaalaiset eivät välttämättä osaa käyttää kaikkia laitteita oikein (esim. sauna). Näiden asioiden opastaminen voisi kuitenkin luoda vuokraajalle arvoa, vaikka asia ei olisikaan ennestään tuttu. Lisäksi jos laitteiden käyttöä ei opasteta, ne saattavat rikkoutua. Datan perusteella voi olla kuitenkaan hankala selvittää, onko esimerkiksi saunallisissa vuokrakämpissä annetta ohjeet saunan käytöstä. Hyödyllistä tässä yhteydessä olisi myös tietää, onko mahdolliset ohjeet sisältäneet kuvia tai millä kielellä ne on kirjoitettu. Tämä ei kuitenkaan selviä datasta. Itselleni mielenkiintoista olisi myös tutkia, onko eri maalaisten välillä preferenssejä asunnon varustelussa (esim. Briteillä teenkeitin on välttämätön yms.). Tätäkin tosin olisi hieman hankala tutkia tällä Airbnb-aineistolla.\n",
    "\n",
    "Seuraavaksi käydään läpi viikon demosessiossa opittua. Viime viikolla testailin jo airbnb-dataa, joten jatketaan sen parissa harjoittelua."
   ]
  },
  {
   "cell_type": "code",
   "execution_count": 86,
   "id": "d923ef57",
   "metadata": {},
   "outputs": [
    {
     "name": "stdout",
     "output_type": "stream",
     "text": [
      "<bound method NDFrame.head of        price  number_of_reviews\n",
      "0         65                 22\n",
      "1         75                 89\n",
      "2        265                 43\n",
      "3        150                  0\n",
      "4         29                129\n",
      "...      ...                ...\n",
      "66636    120                  0\n",
      "66637    288                  0\n",
      "66638    104                  0\n",
      "66639    402                  0\n",
      "66640     70                  0\n",
      "\n",
      "[66641 rows x 2 columns]>\n"
     ]
    }
   ],
   "source": [
    "import pandas as pd\n",
    "import numpy as np\n",
    "\n",
    "from sklearn import preprocessing\n",
    "from sklearn import linear_model\n",
    "from sklearn.model_selection import cross_val_predict\n",
    "from sklearn.impute import SimpleImputer\n",
    "\n",
    "import matplotlib.pyplot as plt\n",
    "import os\n",
    "df = df[['price', 'number_of_reviews']]\n",
    "print(df.head)"
   ]
  },
  {
   "cell_type": "code",
   "execution_count": 87,
   "id": "eb293fc7",
   "metadata": {},
   "outputs": [
    {
     "name": "stdout",
     "output_type": "stream",
     "text": [
      "                      price  number_of_reviews\n",
      "price              1.000000          -0.049236\n",
      "number_of_reviews -0.049236           1.000000\n"
     ]
    }
   ],
   "source": [
    "df = df.dropna()\n",
    "\n",
    "print(df.corr())"
   ]
  },
  {
   "cell_type": "code",
   "execution_count": 88,
   "id": "61ca3e3a",
   "metadata": {},
   "outputs": [
    {
     "name": "stdout",
     "output_type": "stream",
     "text": [
      "price                0\n",
      "number_of_reviews    0\n",
      "dtype: int64\n"
     ]
    }
   ],
   "source": [
    "#korvataan puuttuvat arvot mediaanilla\n",
    "imputer = SimpleImputer(strategy='median')\n",
    "df_imp = pd.DataFrame(imputer.fit_transform(df))\n",
    "\n",
    "df_imp.columns = df.columns\n",
    "df_imp.index = df.index\n",
    "\n",
    "print(df_imp.isnull().sum())"
   ]
  },
  {
   "cell_type": "code",
   "execution_count": 89,
   "id": "e3ebe0f5",
   "metadata": {},
   "outputs": [
    {
     "data": {
      "image/png": "[encoded data removed]",
      "text/plain": [
       "<Figure size 1440x720 with 1 Axes>"
      ]
     },
     "metadata": {
      "needs_background": "light"
     },
     "output_type": "display_data"
    }
   ],
   "source": [
    "# Tehdään lineaarinen regressio\n",
    "lr = linear_model.LinearRegression()\n",
    "\n",
    "y = df_imp.number_of_reviews\n",
    "X = df_imp.drop(columns='number_of_reviews')\n",
    "\n",
    "predict = cross_val_predict(lr, X, y, cv=10)\n",
    "\n",
    "fig, ax = plt.subplots(figsize=(20, 10))\n",
    "ax.scatter(y, predict, edgecolors=(0, 0, 0))\n",
    "ax.plot([y.min(), y.max()], [y.min(), y.max()], 'k--', lw=4)\n",
    "\n",
    "plt.show()"
   ]
  },
  {
   "cell_type": "markdown",
   "id": "54dddc5f",
   "metadata": {},
   "source": [
    "Viisi opittua asiaa:\n",
    "1. Muiden kanssa puhuessa ideat jalostuu mukavasti\n",
    "2. Vaikka tulisikin hyviä tutkimusideoita, kannattaa pitää mielessä, mihin data taipuu ja millaiset taidot itsellä on\n",
    "3. Tärkeää on myös pitää mielessä liiketoimintatarpeet\n",
    "4. Lineaarinen regressio on yksi helpoimpia koneoppimisen tapoja\n",
    "5. Minun pitäisi keskittyä jatkossa koodaustaitojeni kehittämiseen, onneksi koodi käydään demosessiossa tarkasti läpi ja esimerkkikoodi on saatavilla!"
   ]
  },
  {
   "cell_type": "markdown",
   "id": "dda0b323",
   "metadata": {},
   "source": [
    "Lähteet\n",
    "- Luento 30.3. (paikan päällä) + demosessio 1.4. (katsottu tallenteelta)"
   ]
  },
  {
   "cell_type": "markdown",
   "id": "893fde91",
   "metadata": {},
   "source": [
    "# Viikko 5\n",
    "Tällä viikolla meillä oli vierailuluento, jossa puhujana oli Futuricen Teemu Mikkonen ja aiheena luonnolisen kielen analyysi ja tekstidata. Tekstidatan luokittelu kiinnostaa itseäni suuresti. Tämä johtuu edeltävistä kieliopinnoissani, joissa muun muassa korpusanalyysit tulivat tutuiksi.\n",
    "\n",
    "NLP (Natural Language Processing) on monimuotoista, kompleksista ja siinä ei ole välttämättä selkeää rakennetta, joten sitä on hankalampi hyödyntää koneoppimisessa. Oleellista prosessoinnilla on esikäsitellä teksti hyvin ja saattaa se sellaiseen muotoon, jotta kone pystyy käyttämään sitä. NLP:tä käytetään muun muassa automaattikäännöksissä ja chat-boteissa.\n",
    "\n",
    "NLP-prosessissa on muutamia vaiheita: Ensin haetaan pakettidata ja hukkasanalistat, tämän jälkeen asennetaan tarvittavat kirjastot ja määritellään hukkasanalista. Sitten aloitetaan esikäsittely, jonka jälkeen varsinainen mallin opettaminen ja analyysi voidaan aloittaa. Itseäni näistä vaiheista kiinnosti eniten esikäsittely, jossa halutaan poistaa turhaa kohinaa, mutta mielestäni sanoja käsitellessä ei ole aivan yksiselitteistä, mikä on turhaa kohinaa ja mikä ei. Eräällä toisella kurssilla esimerkkinä käytettiin Tripadvisorin kommenteista kerättyä datamassaa, josta tehtiin sentimenttianalyysi, ja koneoppimisen kautta tunnistettiin positiivia sanoja. Mutta entä jos positiivista sanaa edeltää negaatio, esim. \"ei hyvä\"? En tiedä, osasiko kyseinen algoritmi tunnistaa tällaisia tapauksia. Joissain tapauksissa esikäsittelyssä sanat \"ei\" ja \"eikä\" saatetaan määrittää hukkasanoiksi, jolloin data saattaa muuttua aivan päinvastaiseksi kun negaatiot poistetaan! Esikäsittelyyn kuuluu myös isojen alkukirjaimien ja välimerkkien poisto, jotka tavallaan ymmärrän, mutta joissain tapauksissa esimerkiksi lauseessa oleva pilkku voi muuttaa lauseen merkitystä. Tässä yhteydessä pohdin myös, osaako algoritmit tunnistaa yhdyssanoja tai onko mahdollista tunnistaa kirjoitusvirheitä.\n",
    "\n",
    "Luennolla mainittiin, että hukkasanoiksi saatetaan nähdä kaikki alle kolmen merkin mittaiset sanat, jolloin esimerkiksi jotkin lyhenteet (kuten EU) saatetaan poistaa hukkasanoina. Tämä on mielestäni hyvä esimerkki siitä, kuinka on oleellista, että dataa analysoivat henkilöt käyttävät riittävästi aikaa dataan tutustumiseen ennen esikäsittelyn aloittamista, jotta hukkasanalistat ja muut valinnat esikäsittelyssä osataan tehdä oikein. Jos analyyseja on tehnyt paljon samankaltaisilla tekstimassoilla, kiusauksena on varmasti tehdä samanlainen esikäsittely kuin aina ennenkin ilman sen tarkempaa dataan tutustumista. Tärkeää olisi aina myös selvittää, onko jokin opetusdatan alue yliedustettu tai aliedustettu. Toisaalta on hyvä pitää mielessä, että opetusdatan määrän karsiminen vaikeuttaa oppimista.\n",
    "\n",
    "Esikäsittelyyn kuuluu myös sanojen palauttaminen perusmuotoon. Erityisesti suomen kielessä perusmuotoon palautetut sanat voivat menettää paljon informaatiota (esim. \"juoksentelisinkohan\"), mutta toisaalta perusmuodossa sanat ovat yhdenmukaisempia. Konekääntäjät yleensä tekevät käännöksiä sana kerrallaan, joten uskon, että vielä tulee menemään melko paljon aikaa ennen kuin Google kääntäjä osaa kääntää englannin lauseen \"I wonder if I should run around aimlessly\" yhdellä suomen kielen sanalla \"juoksentelisinkohan\".\n",
    "\n",
    "Opetusdatasta on tärkeää säästää osa testaamista varten, sillä jos opetusdata on sama kuin testidata, vastaavuudet ovat täydellisiä ja mallin todellista oppimista ei voida ennustaa. Vaikka tämä on sellainen asia, jonka moni varmasti pitää itsestäänselvänä, tällaisia virheitä voi varmasti kiireessä testaillessa todellisuudessa tapahtua, ja siksi on hyvä, että asia on \"sanottu ääneen\".\n",
    "\n",
    "Eräs tärkeä asia, josta kurssilla on aikaisemmillakin viikoilla ollut puhetta, oli data-analyytikon tekemien päätösten vaikutukset analyysin tuloksiin. Mielestäni on hienoa, että kurssilla on korostettu sitä, että analyytikko tekee helposti sellaisia valintoja, jotka vastaavat omia ajatuksia ja odotuksia (esim. valitaan tietyt hukkasanat), jolloin datasta löytyy sellaisia asioita kuin sieltä odotetaankin löytyvän. Vaikka tämä ei kuulosta kovin kivalta, on tärkeää kuitenkin tehdä valintoja, mutta toisaalta niiden vaikutukset on myös hyvä tiedostaa.\n",
    "\n",
    "Kun esikäsittely on valmis, mallia aloitetaan opettamaan. Käytännössä data kirjataan pandakseen, ja hyödynnetään fastText NLP-kirjastoa, joka tutkii sanojen vektoriesityksiä eli vertailee sanoja niiden kontekstiin ja vieressä oleviin sanoihin. Tässä kohtaa aloin miettimään, erottaako algoritmi homonyymejä, eli sanoja, joilla on samanlainen kirjoitusasu, mutta eri merkitys (esim. \"kuusi\" joka voi olla puu tai numero). Sanat konteksti voi paljastaa sanan merkityksen, mutta näin ei välttämättä ole aina.\n",
    "\n",
    "Opettamisen yhteydessä kone voi alioppimia tai ylioppia datan. Alioppimisella tarkoitetaan, että sisältöä ei ole tarpeeksi, ja ylioppiminen puolestaan tarkoittaa, että jokin data tunnetaan liian hyvin. Yli- ja alioppiminen voidaan huomata testaamisvaiheessa. Kun kone on saatu opetettua, on viimeisenä vaiheena tärkeää vielä arvioida sen toimintaa. Yksi mittari koneoppimiselle on se, kuinka usein se löytää oikean arvioin. Toisaalta kannattaa myös huomioida onko jakauma tasainen ja laskee muitakin hyödyllisiä tunnuslukuja algoritmin onnistumiselle.\n",
    "\n",
    "Seuraavaksi demosession oppeja esimerkkikoodia mukaillen:\n"
   ]
  },
  {
   "cell_type": "code",
   "execution_count": 90,
   "id": "99c50278",
   "metadata": {},
   "outputs": [
    {
     "data": {
      "text/html": [
       "<div>\n",
       "<style scoped>\n",
       "    .dataframe tbody tr th:only-of-type {\n",
       "        vertical-align: middle;\n",
       "    }\n",
       "\n",
       "    .dataframe tbody tr th {\n",
       "        vertical-align: top;\n",
       "    }\n",
       "\n",
       "    .dataframe thead th {\n",
       "        text-align: right;\n",
       "    }\n",
       "</style>\n",
       "<table border=\"1\" class=\"dataframe\">\n",
       "  <thead>\n",
       "    <tr style=\"text-align: right;\">\n",
       "      <th></th>\n",
       "      <th>text</th>\n",
       "      <th>rating</th>\n",
       "    </tr>\n",
       "  </thead>\n",
       "  <tbody>\n",
       "    <tr>\n",
       "      <th>0</th>\n",
       "      <td>I got the phone, had it shipped all the way  a...</td>\n",
       "      <td>3.0 out of 5 stars</td>\n",
       "    </tr>\n",
       "    <tr>\n",
       "      <th>1</th>\n",
       "      <td>Got 2nd phone requirements:Didn't want to spen...</td>\n",
       "      <td>5.0 out of 5 stars</td>\n",
       "    </tr>\n",
       "    <tr>\n",
       "      <th>2</th>\n",
       "      <td>I bought this phone back when I had AT&amp;T's pre...</td>\n",
       "      <td>5.0 out of 5 stars</td>\n",
       "    </tr>\n",
       "    <tr>\n",
       "      <th>3</th>\n",
       "      <td>There are too many things wrong to name them a...</td>\n",
       "      <td>2.0 out of 5 stars</td>\n",
       "    </tr>\n",
       "    <tr>\n",
       "      <th>4</th>\n",
       "      <td>Really nice phone for the money. The phone is ...</td>\n",
       "      <td>4.0 out of 5 stars</td>\n",
       "    </tr>\n",
       "    <tr>\n",
       "      <th>...</th>\n",
       "      <td>...</td>\n",
       "      <td>...</td>\n",
       "    </tr>\n",
       "    <tr>\n",
       "      <th>1601</th>\n",
       "      <td>didn't like it</td>\n",
       "      <td>1.0 out of 5 stars</td>\n",
       "    </tr>\n",
       "    <tr>\n",
       "      <th>1602</th>\n",
       "      <td>Its a new article?</td>\n",
       "      <td>1.0 out of 5 stars</td>\n",
       "    </tr>\n",
       "    <tr>\n",
       "      <th>1603</th>\n",
       "      <td>I was foolish enough to order this Lumina 520 ...</td>\n",
       "      <td>1.0 out of 5 stars</td>\n",
       "    </tr>\n",
       "    <tr>\n",
       "      <th>1604</th>\n",
       "      <td>excelente</td>\n",
       "      <td>5.0 out of 5 stars</td>\n",
       "    </tr>\n",
       "    <tr>\n",
       "      <th>1605</th>\n",
       "      <td>It was the cell phone with the best performanc...</td>\n",
       "      <td>5.0 out of 5 stars</td>\n",
       "    </tr>\n",
       "  </tbody>\n",
       "</table>\n",
       "<p>1606 rows × 2 columns</p>\n",
       "</div>"
      ],
      "text/plain": [
       "                                                   text              rating\n",
       "0     I got the phone, had it shipped all the way  a...  3.0 out of 5 stars\n",
       "1     Got 2nd phone requirements:Didn't want to spen...  5.0 out of 5 stars\n",
       "2     I bought this phone back when I had AT&T's pre...  5.0 out of 5 stars\n",
       "3     There are too many things wrong to name them a...  2.0 out of 5 stars\n",
       "4     Really nice phone for the money. The phone is ...  4.0 out of 5 stars\n",
       "...                                                 ...                 ...\n",
       "1601                                     didn't like it  1.0 out of 5 stars\n",
       "1602                                 Its a new article?  1.0 out of 5 stars\n",
       "1603  I was foolish enough to order this Lumina 520 ...  1.0 out of 5 stars\n",
       "1604                                          excelente  5.0 out of 5 stars\n",
       "1605  It was the cell phone with the best performanc...  5.0 out of 5 stars\n",
       "\n",
       "[1606 rows x 2 columns]"
      ]
     },
     "execution_count": 90,
     "metadata": {},
     "output_type": "execute_result"
    }
   ],
   "source": [
    "import pandas as pd\n",
    "import matplotlib.pyplot as plt\n",
    "import matplotlib.patches as mpatches\n",
    "import os\n",
    "if os.path.exists('out.json'):\n",
    "    df = pd.read_json('out.json')\n",
    "else:\n",
    "    df = pd.read_json('https://raw.githubusercontent.com/InfoTUNI/joda2022/master/koodiesimerkit/out.json')\n",
    "\n",
    "#tulostetaan esimerkki\n",
    "df"
   ]
  },
  {
   "cell_type": "code",
   "execution_count": 91,
   "id": "84be29da",
   "metadata": {},
   "outputs": [
    {
     "data": {
      "text/plain": [
       "array(['3.0 out of 5 stars', '5.0 out of 5 stars', '2.0 out of 5 stars',\n",
       "       '4.0 out of 5 stars', '1.0 out of 5 stars'], dtype=object)"
      ]
     },
     "execution_count": 91,
     "metadata": {},
     "output_type": "execute_result"
    }
   ],
   "source": [
    "#poistetaan isot kirjaimet ja varmistetaan, että arviointi on float-muotoinen\n",
    "df['text'] = df['text'].apply(str.lower)\n",
    "df['rating'].unique()"
   ]
  },
  {
   "cell_type": "code",
   "execution_count": 92,
   "id": "40be1ea0",
   "metadata": {},
   "outputs": [
    {
     "name": "stdout",
     "output_type": "stream",
     "text": [
      "<class 'pandas.core.frame.DataFrame'>\n",
      "RangeIndex: 1606 entries, 0 to 1605\n",
      "Data columns (total 2 columns):\n",
      " #   Column  Non-Null Count  Dtype  \n",
      "---  ------  --------------  -----  \n",
      " 0   text    1606 non-null   object \n",
      " 1   rating  1606 non-null   float64\n",
      "dtypes: float64(1), object(1)\n",
      "memory usage: 25.2+ KB\n"
     ]
    }
   ],
   "source": [
    "conv_rating = lambda rating: float(rating[:2])\n",
    "\n",
    "df['rating'] = df['rating'].apply(conv_rating)\n",
    "\n",
    "df.info()"
   ]
  },
  {
   "cell_type": "code",
   "execution_count": 93,
   "id": "41329a14",
   "metadata": {},
   "outputs": [
    {
     "data": {
      "text/plain": [
       "{'divide': 'ignore', 'over': 'warn', 'under': 'ignore', 'invalid': 'ignore'}"
      ]
     },
     "execution_count": 93,
     "metadata": {},
     "output_type": "execute_result"
    }
   ],
   "source": [
    "from sklearn.feature_extraction.text import TfidfVectorizer\n",
    "import numpy as np\n",
    "\n",
    "np.seterr(divide='ignore', invalid='ignore')"
   ]
  },
  {
   "cell_type": "code",
   "execution_count": 95,
   "id": "e0e3de1e",
   "metadata": {},
   "outputs": [
    {
     "ename": "AttributeError",
     "evalue": "'numpy.ndarray' object has no attribute 'toarray'",
     "output_type": "error",
     "traceback": [
      "\u001b[1;31m---------------------------------------------------------------------------\u001b[0m",
      "\u001b[1;31mAttributeError\u001b[0m                            Traceback (most recent call last)",
      "\u001b[1;32m~\\AppData\\Local\\Temp/ipykernel_21016/627785399.py\u001b[0m in \u001b[0;36m<module>\u001b[1;34m\u001b[0m\n\u001b[1;32m----> 1\u001b[1;33m \u001b[0mreprs\u001b[0m \u001b[1;33m=\u001b[0m \u001b[0mreprs\u001b[0m\u001b[1;33m.\u001b[0m\u001b[0mtoarray\u001b[0m\u001b[1;33m(\u001b[0m\u001b[1;33m)\u001b[0m\u001b[1;33m\u001b[0m\u001b[1;33m\u001b[0m\u001b[0m\n\u001b[0m\u001b[0;32m      2\u001b[0m \u001b[0mlength\u001b[0m \u001b[1;33m=\u001b[0m \u001b[0mnp\u001b[0m\u001b[1;33m.\u001b[0m\u001b[0msqrt\u001b[0m\u001b[1;33m(\u001b[0m\u001b[1;33m(\u001b[0m\u001b[0mreprs\u001b[0m\u001b[1;33m**\u001b[0m\u001b[1;36m2\u001b[0m\u001b[1;33m)\u001b[0m\u001b[1;33m.\u001b[0m\u001b[0msum\u001b[0m\u001b[1;33m(\u001b[0m\u001b[0maxis\u001b[0m\u001b[1;33m=\u001b[0m\u001b[1;36m1\u001b[0m\u001b[1;33m)\u001b[0m\u001b[1;33m)\u001b[0m\u001b[1;33m[\u001b[0m\u001b[1;33m:\u001b[0m\u001b[1;33m,\u001b[0m\u001b[1;32mNone\u001b[0m\u001b[1;33m]\u001b[0m\u001b[1;33m\u001b[0m\u001b[1;33m\u001b[0m\u001b[0m\n\u001b[0;32m      3\u001b[0m \u001b[0mreprs\u001b[0m \u001b[1;33m=\u001b[0m \u001b[0mreprs\u001b[0m \u001b[1;33m/\u001b[0m \u001b[0mlength\u001b[0m\u001b[1;33m\u001b[0m\u001b[1;33m\u001b[0m\u001b[0m\n\u001b[0;32m      4\u001b[0m \u001b[1;33m\u001b[0m\u001b[0m\n\u001b[0;32m      5\u001b[0m \u001b[0mreprs\u001b[0m \u001b[1;33m=\u001b[0m \u001b[0mnp\u001b[0m\u001b[1;33m.\u001b[0m\u001b[0mnan_to_num\u001b[0m\u001b[1;33m(\u001b[0m\u001b[0mreprs\u001b[0m\u001b[1;33m,\u001b[0m \u001b[0mnan\u001b[0m\u001b[1;33m=\u001b[0m\u001b[1;36m0.0\u001b[0m\u001b[1;33m,\u001b[0m \u001b[0mposinf\u001b[0m\u001b[1;33m=\u001b[0m\u001b[1;36m0.0\u001b[0m\u001b[1;33m,\u001b[0m \u001b[0mneginf\u001b[0m\u001b[1;33m=\u001b[0m\u001b[1;36m0.0\u001b[0m\u001b[1;33m)\u001b[0m\u001b[1;33m\u001b[0m\u001b[1;33m\u001b[0m\u001b[0m\n",
      "\u001b[1;31mAttributeError\u001b[0m: 'numpy.ndarray' object has no attribute 'toarray'"
     ]
    }
   ],
   "source": [
    "\n",
    "reprs = reprs.toarray()\n",
    "length = np.sqrt((reprs**2).sum(axis=1))[:,None]\n",
    "reprs = reprs / length\n",
    "\n",
    "reprs = np.nan_to_num(reprs, nan=0.0, posinf=0.0, neginf=0.0)\n",
    "\n",
    "print('The shape of the matrix containing the word representations is:', reprs.shape)"
   ]
  },
  {
   "cell_type": "code",
   "execution_count": 96,
   "id": "3830d755",
   "metadata": {},
   "outputs": [
    {
     "name": "stdout",
     "output_type": "stream",
     "text": [
      "[1 1 1 ... 1 2 1]\n"
     ]
    }
   ],
   "source": [
    "from sklearn.cluster import KMeans\n",
    "import numpy as np\n",
    "\n",
    "k = 6\n",
    "kmeans = KMeans(n_clusters=k, random_state=11)\n",
    "clusters = kmeans.fit_predict(reprs)\n",
    "\n",
    "print(clusters)"
   ]
  },
  {
   "cell_type": "code",
   "execution_count": 97,
   "id": "93f24e23",
   "metadata": {},
   "outputs": [
    {
     "data": {
      "text/plain": [
       "0    691\n",
       "1    676\n",
       "5    103\n",
       "3     67\n",
       "2     52\n",
       "4     17\n",
       "Name: cluster_id, dtype: int64"
      ]
     },
     "execution_count": 97,
     "metadata": {},
     "output_type": "execute_result"
    }
   ],
   "source": [
    "df['cluster_id'] = clusters\n",
    "\n",
    "df['cluster_id'].value_counts()"
   ]
  },
  {
   "cell_type": "code",
   "execution_count": 98,
   "id": "6ed6b7eb",
   "metadata": {},
   "outputs": [
    {
     "data": {
      "image/png": "[encoded data removed]",
      "text/plain": [
       "<Figure size 720x360 with 1 Axes>"
      ]
     },
     "metadata": {
      "needs_background": "light"
     },
     "output_type": "display_data"
    }
   ],
   "source": [
    "average_ratings = df.groupby('cluster_id').mean()\n",
    "\n",
    "fig = average_ratings.plot.bar(figsize=(10,5))"
   ]
  },
  {
   "cell_type": "markdown",
   "id": "d20b520e",
   "metadata": {},
   "source": [
    "Viisi oppia:\n",
    "1. Luonnollisen kielen analyysissa on tärkeää tehdä laadukas esikäsittely\n",
    "2. Data-analyytikko joutuu tekemään valintoja, joilla on vaikutuksia analyysin lopputulokseen\n",
    "3. Koneelle on tärkeää säästää opetusdataa myös testaamista varten\n",
    "4. Kone saattaa yli- tai alioppia datan\n",
    "5. Humanistina huomaan kiinnittäväni paljon kieliasioihin huomiota..."
   ]
  },
  {
   "cell_type": "markdown",
   "id": "54c30717",
   "metadata": {},
   "source": [
    "Lähteet:\n",
    "  - Luento 6.4. + demosessio 8.4. (katsottu tallenteelta)  "
   ]
  },
  {
   "cell_type": "markdown",
   "id": "8886c55d",
   "metadata": {},
   "source": [
    "# Viikko 6"
   ]
  },
  {
   "cell_type": "markdown",
   "id": "273da7ff",
   "metadata": {},
   "source": [
    "Tällä viikolla syvennyttiin ohjaamattomaan oppimiseen. Ohjaamattomassa oppimisessa on käytössä lähtödata, siitä pyritään tunnistamaan piirteitä ja tekemään matriisi. Tämän jälkeen mallia opetetaan ja arvioidaan sen suorituskykyä. Toisin kuin ohjatussa oppimisessa, ohjaamattomassa oppimisessa ei ole tiettyä muuttujaa tiedossa, jota haluttaisiin ennustaa, vaan oppimisessa käytetään esimerkiksi klusterointia eli ryvästämistä. Kun eri klusterit on tiedossa, arvioidaan niiden luotettavuutta (esim. onko jokin löydetty asiakassegmentti luotettavan oloinen) ja laatua. Kun hyvät klusterit on löydetty, voidaan ennustaa, mihin klusteriin esimerkiksi joku asiakas voisi kuulua. Klusterointi (tai ryvästäminen) on itselleni ennestään tuttua, mutta oli mielenkiintoista oppia lisää.\n",
    "\n",
    "Klusteroinnin lisäksi ohjaamaton oppiminen voi olla ns. ostoskorinanalyysia tai aihemallinnusta. Ostoskorianalyysista perinteinen esimerkki on ostoskorien analyysi, josta voi olla ainakin vähittäiskaupassa konkreettista hyötyä. Ostoskorianalyysia voidaan hyödyntää myös esimerkiksi Netflixissa, jossa voidaan kuluttajan valintojen mukaan nostaa tai piilottaa sopivia kohteita). Aiheanalyysissa puolestaan tunnistetaan tekstistä aiheita. Aiheanalyysi on luonteeltaan melko subjektiivista, ja sitä voidaan hyödyntää muun muassa \"etälukemisessa\", jolloin tietokone käy aineistoa läpi ja tunnistaa teemoja tietyistä sanayhdistelmistä\n",
    "\n",
    "\n",
    "Ryvästämistä voidaan tehdä moniuloitteisessa maailmassa, jolloin otetaan huomioon eri tekijöitä, eikä vain x- ja y-akselit. Toinen vaihtoehto on laittaa ryppään keskelle joku keskipiste. Ryvästäessä on oleellista miettiä, mitkä arvot ovat oleellisia. Lisäksi muuttujat voi olla kannattavaa normalisoida niin, että esim. minimiarvo on 0 ja maksimi arvo 1, mutta tämä kannattaa tehdä vasta sen jälkeen kun on tarkistettu, ettei aineistossa ole yksittäisiä poikkeavia arvoja, jotka voisivat vääristää minimi- tai maksimiarvoja. Tilastotieteessä olen kuullut tällaisia arvoja kutsuttavan \"oudokeiksi\". Jos tällaisia oudokki-arvoja aiotaan poistaa, siitä tulee kertoa selkeästi ja läpinäkyvästi. Tämä on taas yksi esimerkki niistä lukuisista tilanteista, joissa data-analyytikko voi omilla päätöksillään \"työntää\" oman totuutensa tutkittuun dataan, joten valinnat on tärkeää tiedostaa ja perustella huolellisesti.\n",
    "\n",
    "Ryvästämisessä voidaan käyttää KMeans-nimistä metodia. Siinä algoritmille annetaan tieto, kuinka monta klusteria halutaan löytää (kyynärpääperiaate=Vertaillaan eri klustereiden määrillä milloinen virheen määrän pieneneminen ei enää merkittävästi muutu) ja valitaan klustereille keskipisteet. Näiden klustereiden mukaan havainnot jaetaan lähimmän klusterikeskipisteen mukaan. Tämän jälkeen lasketaan syntyneille klustereille uudet keskipisteet ja toistetaan prosessia niin kauan, kunnes keskipisteet eivät enää muutu. Ryvästämisessä on tärkeää tuntea data ja tietää, millaisten asioiden mukaan ryvästämistä kannattaa tehdä, jotta saadaan merkityksellisiä tuloksia.\n",
    "\n",
    "Lopuksi vielä demosessiossa opitun testailua:"
   ]
  },
  {
   "cell_type": "code",
   "execution_count": 99,
   "id": "b501c61b",
   "metadata": {},
   "outputs": [
    {
     "name": "stdout",
     "output_type": "stream",
     "text": [
      "Requirement already satisfied: networkx in c:\\users\\jenna\\anaconda3\\lib\\site-packages (2.6.3)\n",
      "Note: you may need to restart the kernel to use updated packages.\n"
     ]
    }
   ],
   "source": [
    "\n",
    "pip install networkx"
   ]
  },
  {
   "cell_type": "code",
   "execution_count": 100,
   "id": "43fd4ceb",
   "metadata": {},
   "outputs": [
    {
     "name": "stdout",
     "output_type": "stream",
     "text": [
      "Requirement already satisfied: efficient_apriori in c:\\users\\jenna\\anaconda3\\lib\\site-packages (2.0.1)\n",
      "Requirement already satisfied: networkx in c:\\users\\jenna\\anaconda3\\lib\\site-packages (2.6.3)\n"
     ]
    }
   ],
   "source": [
    "!pip install efficient_apriori\n",
    "!pip install networkx\n",
    "from efficient_apriori import apriori"
   ]
  },
  {
   "cell_type": "code",
   "execution_count": 101,
   "id": "32412709",
   "metadata": {},
   "outputs": [
    {
     "data": {
      "text/html": [
       "<div>\n",
       "<style scoped>\n",
       "    .dataframe tbody tr th:only-of-type {\n",
       "        vertical-align: middle;\n",
       "    }\n",
       "\n",
       "    .dataframe tbody tr th {\n",
       "        vertical-align: top;\n",
       "    }\n",
       "\n",
       "    .dataframe thead th {\n",
       "        text-align: right;\n",
       "    }\n",
       "</style>\n",
       "<table border=\"1\" class=\"dataframe\">\n",
       "  <thead>\n",
       "    <tr style=\"text-align: right;\">\n",
       "      <th></th>\n",
       "      <th>Unnamed: 0</th>\n",
       "      <th>InvoiceNo</th>\n",
       "      <th>StockCode</th>\n",
       "      <th>Description</th>\n",
       "      <th>Quantity</th>\n",
       "      <th>InvoiceDate</th>\n",
       "      <th>UnitPrice</th>\n",
       "      <th>CustomerID</th>\n",
       "      <th>Country</th>\n",
       "    </tr>\n",
       "  </thead>\n",
       "  <tbody>\n",
       "    <tr>\n",
       "      <th>count</th>\n",
       "      <td>541909.00000</td>\n",
       "      <td>541909</td>\n",
       "      <td>541909</td>\n",
       "      <td>540455</td>\n",
       "      <td>541909.000000</td>\n",
       "      <td>541909</td>\n",
       "      <td>541909.000000</td>\n",
       "      <td>406829.000000</td>\n",
       "      <td>541909</td>\n",
       "    </tr>\n",
       "    <tr>\n",
       "      <th>unique</th>\n",
       "      <td>NaN</td>\n",
       "      <td>25900</td>\n",
       "      <td>4070</td>\n",
       "      <td>4223</td>\n",
       "      <td>NaN</td>\n",
       "      <td>23260</td>\n",
       "      <td>NaN</td>\n",
       "      <td>NaN</td>\n",
       "      <td>38</td>\n",
       "    </tr>\n",
       "    <tr>\n",
       "      <th>top</th>\n",
       "      <td>NaN</td>\n",
       "      <td>573585</td>\n",
       "      <td>85123A</td>\n",
       "      <td>WHITE HANGING HEART T-LIGHT HOLDER</td>\n",
       "      <td>NaN</td>\n",
       "      <td>2011-10-31 14:41:00</td>\n",
       "      <td>NaN</td>\n",
       "      <td>NaN</td>\n",
       "      <td>United Kingdom</td>\n",
       "    </tr>\n",
       "    <tr>\n",
       "      <th>freq</th>\n",
       "      <td>NaN</td>\n",
       "      <td>1114</td>\n",
       "      <td>2313</td>\n",
       "      <td>2369</td>\n",
       "      <td>NaN</td>\n",
       "      <td>1114</td>\n",
       "      <td>NaN</td>\n",
       "      <td>NaN</td>\n",
       "      <td>495478</td>\n",
       "    </tr>\n",
       "    <tr>\n",
       "      <th>mean</th>\n",
       "      <td>270954.00000</td>\n",
       "      <td>NaN</td>\n",
       "      <td>NaN</td>\n",
       "      <td>NaN</td>\n",
       "      <td>9.552250</td>\n",
       "      <td>NaN</td>\n",
       "      <td>4.611114</td>\n",
       "      <td>15287.690570</td>\n",
       "      <td>NaN</td>\n",
       "    </tr>\n",
       "    <tr>\n",
       "      <th>std</th>\n",
       "      <td>156435.79785</td>\n",
       "      <td>NaN</td>\n",
       "      <td>NaN</td>\n",
       "      <td>NaN</td>\n",
       "      <td>218.081158</td>\n",
       "      <td>NaN</td>\n",
       "      <td>96.759853</td>\n",
       "      <td>1713.600303</td>\n",
       "      <td>NaN</td>\n",
       "    </tr>\n",
       "    <tr>\n",
       "      <th>min</th>\n",
       "      <td>0.00000</td>\n",
       "      <td>NaN</td>\n",
       "      <td>NaN</td>\n",
       "      <td>NaN</td>\n",
       "      <td>-80995.000000</td>\n",
       "      <td>NaN</td>\n",
       "      <td>-11062.060000</td>\n",
       "      <td>12346.000000</td>\n",
       "      <td>NaN</td>\n",
       "    </tr>\n",
       "    <tr>\n",
       "      <th>25%</th>\n",
       "      <td>135477.00000</td>\n",
       "      <td>NaN</td>\n",
       "      <td>NaN</td>\n",
       "      <td>NaN</td>\n",
       "      <td>1.000000</td>\n",
       "      <td>NaN</td>\n",
       "      <td>1.250000</td>\n",
       "      <td>13953.000000</td>\n",
       "      <td>NaN</td>\n",
       "    </tr>\n",
       "    <tr>\n",
       "      <th>50%</th>\n",
       "      <td>270954.00000</td>\n",
       "      <td>NaN</td>\n",
       "      <td>NaN</td>\n",
       "      <td>NaN</td>\n",
       "      <td>3.000000</td>\n",
       "      <td>NaN</td>\n",
       "      <td>2.080000</td>\n",
       "      <td>15152.000000</td>\n",
       "      <td>NaN</td>\n",
       "    </tr>\n",
       "    <tr>\n",
       "      <th>75%</th>\n",
       "      <td>406431.00000</td>\n",
       "      <td>NaN</td>\n",
       "      <td>NaN</td>\n",
       "      <td>NaN</td>\n",
       "      <td>10.000000</td>\n",
       "      <td>NaN</td>\n",
       "      <td>4.130000</td>\n",
       "      <td>16791.000000</td>\n",
       "      <td>NaN</td>\n",
       "    </tr>\n",
       "    <tr>\n",
       "      <th>max</th>\n",
       "      <td>541908.00000</td>\n",
       "      <td>NaN</td>\n",
       "      <td>NaN</td>\n",
       "      <td>NaN</td>\n",
       "      <td>80995.000000</td>\n",
       "      <td>NaN</td>\n",
       "      <td>38970.000000</td>\n",
       "      <td>18287.000000</td>\n",
       "      <td>NaN</td>\n",
       "    </tr>\n",
       "  </tbody>\n",
       "</table>\n",
       "</div>"
      ],
      "text/plain": [
       "          Unnamed: 0 InvoiceNo StockCode                         Description  \\\n",
       "count   541909.00000    541909    541909                              540455   \n",
       "unique           NaN     25900      4070                                4223   \n",
       "top              NaN    573585    85123A  WHITE HANGING HEART T-LIGHT HOLDER   \n",
       "freq             NaN      1114      2313                                2369   \n",
       "mean    270954.00000       NaN       NaN                                 NaN   \n",
       "std     156435.79785       NaN       NaN                                 NaN   \n",
       "min          0.00000       NaN       NaN                                 NaN   \n",
       "25%     135477.00000       NaN       NaN                                 NaN   \n",
       "50%     270954.00000       NaN       NaN                                 NaN   \n",
       "75%     406431.00000       NaN       NaN                                 NaN   \n",
       "max     541908.00000       NaN       NaN                                 NaN   \n",
       "\n",
       "             Quantity          InvoiceDate      UnitPrice     CustomerID  \\\n",
       "count   541909.000000               541909  541909.000000  406829.000000   \n",
       "unique            NaN                23260            NaN            NaN   \n",
       "top               NaN  2011-10-31 14:41:00            NaN            NaN   \n",
       "freq              NaN                 1114            NaN            NaN   \n",
       "mean         9.552250                  NaN       4.611114   15287.690570   \n",
       "std        218.081158                  NaN      96.759853    1713.600303   \n",
       "min     -80995.000000                  NaN  -11062.060000   12346.000000   \n",
       "25%          1.000000                  NaN       1.250000   13953.000000   \n",
       "50%          3.000000                  NaN       2.080000   15152.000000   \n",
       "75%         10.000000                  NaN       4.130000   16791.000000   \n",
       "max      80995.000000                  NaN   38970.000000   18287.000000   \n",
       "\n",
       "               Country  \n",
       "count           541909  \n",
       "unique              38  \n",
       "top     United Kingdom  \n",
       "freq            495478  \n",
       "mean               NaN  \n",
       "std                NaN  \n",
       "min                NaN  \n",
       "25%                NaN  \n",
       "50%                NaN  \n",
       "75%                NaN  \n",
       "max                NaN  "
      ]
     },
     "execution_count": 101,
     "metadata": {},
     "output_type": "execute_result"
    }
   ],
   "source": [
    "if os.path.exists('online_retail.csv'):\n",
    "    df = pd.read_csv('online_retail.csv')\n",
    "else:\n",
    "    df = pd.read_excel('http://archive.ics.uci.edu/ml/machine-learning-databases/00352/Online%20Retail.xlsx')\n",
    "\n",
    "    df.to_csv('online_retail.csv')\n",
    "\n",
    "df.describe(include='all')"
   ]
  },
  {
   "cell_type": "code",
   "execution_count": 102,
   "id": "20b76102",
   "metadata": {},
   "outputs": [
    {
     "data": {
      "text/plain": [
       "Description      1454\n",
       "CustomerID     135080\n",
       "dtype: int64"
      ]
     },
     "execution_count": 102,
     "metadata": {},
     "output_type": "execute_result"
    }
   ],
   "source": [
    "df = df[['Description', 'CustomerID']]\n",
    "df.isnull().sum()"
   ]
  },
  {
   "cell_type": "code",
   "execution_count": 103,
   "id": "bfc5673c",
   "metadata": {},
   "outputs": [
    {
     "data": {
      "image/png": "[encoded data removed]",
      "text/plain": [
       "<Figure size 1080x720 with 1 Axes>"
      ]
     },
     "metadata": {
      "needs_background": "light"
     },
     "output_type": "display_data"
    }
   ],
   "source": [
    "hist = df['Description'].value_counts().hist(bins=50, figsize = (15,10))"
   ]
  },
  {
   "cell_type": "code",
   "execution_count": 104,
   "id": "9efd25d6",
   "metadata": {},
   "outputs": [
    {
     "data": {
      "text/html": [
       "<div>\n",
       "<style scoped>\n",
       "    .dataframe tbody tr th:only-of-type {\n",
       "        vertical-align: middle;\n",
       "    }\n",
       "\n",
       "    .dataframe tbody tr th {\n",
       "        vertical-align: top;\n",
       "    }\n",
       "\n",
       "    .dataframe thead th {\n",
       "        text-align: right;\n",
       "    }\n",
       "</style>\n",
       "<table border=\"1\" class=\"dataframe\">\n",
       "  <thead>\n",
       "    <tr style=\"text-align: right;\">\n",
       "      <th></th>\n",
       "      <th>Description</th>\n",
       "    </tr>\n",
       "    <tr>\n",
       "      <th>CustomerID</th>\n",
       "      <th></th>\n",
       "    </tr>\n",
       "  </thead>\n",
       "  <tbody>\n",
       "    <tr>\n",
       "      <th>12346.0</th>\n",
       "      <td>[MEDIUM CERAMIC TOP STORAGE JAR, MEDIUM CERAMI...</td>\n",
       "    </tr>\n",
       "    <tr>\n",
       "      <th>12347.0</th>\n",
       "      <td>[BLACK CANDELABRA T-LIGHT HOLDER, AIRLINE BAG ...</td>\n",
       "    </tr>\n",
       "    <tr>\n",
       "      <th>12348.0</th>\n",
       "      <td>[72 SWEETHEART FAIRY CAKE CASES, 60 CAKE CASES...</td>\n",
       "    </tr>\n",
       "    <tr>\n",
       "      <th>12349.0</th>\n",
       "      <td>[PARISIENNE CURIO CABINET, SWEETHEART WALL TID...</td>\n",
       "    </tr>\n",
       "    <tr>\n",
       "      <th>12350.0</th>\n",
       "      <td>[CHOCOLATE THIS WAY METAL SIGN, METAL SIGN NEI...</td>\n",
       "    </tr>\n",
       "  </tbody>\n",
       "</table>\n",
       "</div>"
      ],
      "text/plain": [
       "                                                  Description\n",
       "CustomerID                                                   \n",
       "12346.0     [MEDIUM CERAMIC TOP STORAGE JAR, MEDIUM CERAMI...\n",
       "12347.0     [BLACK CANDELABRA T-LIGHT HOLDER, AIRLINE BAG ...\n",
       "12348.0     [72 SWEETHEART FAIRY CAKE CASES, 60 CAKE CASES...\n",
       "12349.0     [PARISIENNE CURIO CABINET, SWEETHEART WALL TID...\n",
       "12350.0     [CHOCOLATE THIS WAY METAL SIGN, METAL SIGN NEI..."
      ]
     },
     "execution_count": 104,
     "metadata": {},
     "output_type": "execute_result"
    }
   ],
   "source": [
    "grouped_transac = df.groupby('CustomerID').agg(list)\n",
    "grouped_transac.head()"
   ]
  },
  {
   "cell_type": "markdown",
   "id": "f0a20165",
   "metadata": {},
   "source": [
    "Viisi opittua asiaa:\n",
    "1. Ohjaamaton oppiminen on esimerkiksi ryvästämistä, aihemallinnusta tai ostoskorianalyysia\n",
    "2. Ohjaamattomassakin oppimisessa data-analyytikko tekee analyysiin vaikuttavia päätöksiä, esimerkiksi klustereiden määrää valitessa\n",
    "3. Klusterointi on hyödyllistä esimerkiksi asiakassegmenttien hahmottamisessa\n",
    "4. Aiheanalyysissa tietokone tunnistaa aiheita tiettyjen sanayhdistelmien avulla\n",
    "5. Analyysin tekijän on tärkeää tutustua aineistoon ja tärkeää on huomioida, että huonosta datasta ei saa tehtyä hyvää analyysia"
   ]
  },
  {
   "cell_type": "markdown",
   "id": "f2c1f72a",
   "metadata": {},
   "source": [
    "Lähteet\n",
    "- Luento 20.4. (paikalla) + demosessio 22.4. (tallenne)"
   ]
  },
  {
   "cell_type": "markdown",
   "id": "b6cb6315",
   "metadata": {},
   "source": [
    "# Viikko 7"
   ]
  },
  {
   "cell_type": "markdown",
   "id": "9a879238",
   "metadata": {},
   "source": [
    "Esilukemistona viikolle eli artikkeli, joka käsitteli analytiikka hyödyntäviä datatuotteita. Artikkelin mukaan tuotemallin kehittämiseen kuuluu seitsemän askelta: tuotteen konseprualisointi, datan hankinta, jalostaminen, varastointi ja jäljitys, jakelu, presentaatio ja palautteen kerääminen markkinoilta. En ollut pohtinut dataa tuotteistamisen kautta ennen, joten artikkeli oli mielenkiintoista luettavaa. (Davenport & Kudyba 2016).\n",
    "\n",
    "Viikon aiheena oli visuaalinen analytiikka. Visualisoinnilla on kaksi tärkeää tehtävää data-analyyseja tehdessä: kartoittava analytiikka eli datan kartoittaminen ja visualisointi sekä kommunikointi eli tulosten havainnollistaminen. Molemmat visualisoinnin tavat ovat itselleni tuttuja ennestään ja koen yhtä tärkeiksi, sillä valtavia datamassoja ei voi helposti saada analytiikkaprosessin alussa haltuun, jossei niistä tee itselleen jonkin näköisiä visualisointeja. Toisaalta havaintojen esitysvaiheessa vastaanottajan on myös todella paljon helpompi vastaanotta esitetty tieto, jos sen tukena on visualisointeja.\n",
    "\n",
    "Visualisoinnossa katsotaan olevan kolme eri osapuolta: suunnittelija (designer), lukija ja data. Suunnittelijan on tärkeää pitää mielessä, miksi visualisointia tehdään ja mikä on visualisoinnin pohjimmainen tavoite. On myös hyvä tiedostaa, onko visualisointi tarkastelevaa vai selittävää. Lukijan puolestaan voidaan ajatella olevan visualisoinnin onnistumisen ”mittari”, sillä visualisoinnin\n",
    "tavoitteena on saada lukija ymmärtämään asioita. Suunnittelijan on olennaista tuntea lukija ja ottaa lukijan näkökulma ja taustatiedot huomioon laatiessaan visualisointia. Tämä voi tarkoittaa käytännössä sitä, että suunnittelija pohtii, onko tietty ikoni lukijalle tuttu, onko lukija tottunut lukemaan vasemmalta oikealle tai mitä tietyt värivalinnat tarkoittavat lukijan mielestä (tai voiko esimerkiksi värisokeus hankaloittaa kuvaajan ymmärtämistä). (Iliinsky & Steele 2011).\n",
    "\n",
    "Yksi tapa ymmärtää visualisointien tärkeys on tarkastella huonosti tehtyjä visualisointeja. Näistä oli useita esimerkkejä luentomuistiossa, mutta itselleni tuttu nettisivu on WTF Visualizations (http://viz.wtf/), johon on kerätty toinen toistaan huonompia visualisointeja. Nämä ovat hyviä muistutuksia siitä, että kun käsiteltävä asia on itselle tuttu, sille tulee helposti sokeaksi ja ei esimerkiksi itse huomaa, kuinka sekava jokin visualisointi todellisuudessa on. Toki huonoille visualisoinneille on varmasti muitakin selityksiä, kuten se, että aiheeseen ei ole ollenkaan perehdytty tai mietitty tulkitsijan näkökulmaa.\n",
    "\n",
    "Jotta osataan valita oikeanlainen visualisointi, kannattaa erilaisiin visualisointityyppeihin tutustua. Niitä ovat esimerkiksi korrelaatio, frekvenssi, aikasarjat, lajitellut luokat, kokonaisuuden osat ja erokuvaajat. Oikeanlaisen visualisoinnin löytäminen on todella tärkeää, sillä lukijan pitäisi pystyä yhdellä silmäyksellä ymmärtämään, mistä visualisoinnissa on kyse. Esimerkiksi PowerBI:ssa erilaisia visualisointivaihtoehtoja on kuitenkin yli 30, joten valinta ei aina ole helppo. Visualisointia valittaessa kannattaa huomioida esimerkiksi paljonko visualisointeja on määrällisesti (yksi vai peräti miljoona), halutaanko kuvata trendejä trendiviivoilla, jakaumia vai esimerkiksi osuuksia. (Giovanni 2017)."
   ]
  },
  {
   "cell_type": "markdown",
   "id": "aab8edda",
   "metadata": {},
   "source": [
    "Viisi opittua asiaa:\n",
    "1. Datan visualisointi ja visualisointitavan valinta on todella tärkeää\n",
    "2. Visualisointia luodessa kannattaa tavoitteena pitää, että lukija saisi yhdellä vilkaisulla käsityksen, mistä visualisoinnissa on kyse\n",
    "3. Erilaisia visualisointitapoja on kymmeniä, mutta tavan valintaan kannattaa kiinnittää huomiota\n",
    "4. Huonosti tehdyt visualisoinnit ovat opettavaisia\n",
    "5. Erilaisia visualisointityökaluja on paljon saatavilla"
   ]
  },
  {
   "cell_type": "markdown",
   "id": "3b1ca8c1",
   "metadata": {},
   "source": [
    "Lähteet\n",
    "\n",
    "-luento 27.4.\n",
    "\n",
    "-Davenport, T. & Kudyba, S. (2016). Designing And Developing Analytics-Based Data Products. MIT Sloan Management Review: Cambridge Vol 58, Iss 1.\n",
    "\n",
    "-Giovanni, M. (2017). How to Choose The Right Visualization. Saatavilla: https://associationanalytics.com/blog/choose-right-visualization/\n",
    "\n",
    "-Iliinsky, N. & Steele, J. (2011).Designing Data Visualizations. Sebastopol (CA): O’Reilly Media\n",
    "-WTF Visualizations (2022). Saatavilla: https://viz.wtf/ [luettu 9.4.2022]"
   ]
  },
  {
   "cell_type": "code",
   "execution_count": null,
   "id": "c429c0f5",
   "metadata": {},
   "outputs": [],
   "source": []
  }
 ],
 "metadata": {
  "kernelspec": {
   "display_name": "Python 3 (ipykernel)",
   "language": "python",
   "name": "python3"
  },
  "language_info": {
   "codemirror_mode": {
    "name": "ipython",
    "version": 3
   },
   "file_extension": ".py",
   "mimetype": "text/x-python",
   "name": "python",
   "nbconvert_exporter": "python",
   "pygments_lexer": "ipython3",
   "version": "3.9.7"
  }
 },
 "nbformat": 4,
 "nbformat_minor": 5
}
