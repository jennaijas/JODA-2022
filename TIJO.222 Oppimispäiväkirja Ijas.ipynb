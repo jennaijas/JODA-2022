{
 "cells": [
  {
   "cell_type": "markdown",
   "id": "fa1ee964",
   "metadata": {},
   "source": [
    "# Viikko 1\n"
   ]
  },
  {
   "cell_type": "markdown",
   "id": "a33347ee",
   "metadata": {},
   "source": [
    "Olin paikalla ensimmäisellä luennolla 9.3., jolloin luennolla käytiin läpi kurssin sisältöä sekä suoritusvaatimuksia ja tutustuttiin datatieteen perusteisiin. Vaikka luennolla ei tullut itselleni paljoakaan uutta asiaa, luento kasvatti mielenkiintoani ja motivaatiotani kurssin suorittamista kohtaan.\n",
    "\n",
    "Tietojohtamisen opiskelijana moni asia oli minulle tuttua, esimerkiksi tiedon tasot ja luennolla esitetyt mallit (Data Science Lifecyclen lisäksi myös CRISP-DM-malli esitellään TIJO.220 Basics for Business Data Analytics-kurssilla), mutta mukana oli myös hieman uusia näkökulmia. Muita malleja, joihin kursseilla on viitattu, ovat esimerkiksi APREM-DM ja LTDM. Suoritan tällä hetkellä TIJO.324 Data-analytiikka päätöksenteossa-kurssia, jossa aloitusluennolla käytiin hyvin samanlaisia teemoja läpi, mutta esimerkiksi datatieteilijän kompetensseissa oli huomioitu vain matematiikka, ohjelmointi ja liiketoiminta. Mielestäni tämän kurssin materiaalissa esitetty Venn-diagrammi antaa todenmukaisemman kuvan, sillä viestintä on todella tärkeä taito datatieteilijälle: Analyysin tulokset on osattava viestiä ja visualisoida onnistuneesti, jotta niistä on päätöksentekijöille hyötyä. Vaikka koko muu data-analytiikan prosessi oltaisiin tehty täydellisesti, voi huono viestintä aiheuttaa sen, että saavutettu hyöty on yhtä tyhjän kanssa.\n",
    "\n",
    "Luentomateriaalissa esiin tuotu Hans Roslingin video on erinomainen, ja tuo hyvin esiin sen, että datatieteilijällä on valta valita, millaisesta näkökulmasta hän lähtee tutkimaan dataa. Analyytikon valinnoilla voi olla suuri vaikutus, siihen miltä löydökset näyttävät lopussa, vaikka hän ei itse edes huomaisi, miten on lopputulokseen vaikuttanut. Tähän liittyy vahvasti dataan liittyvät eettiset kysymykset, joita Lou ja Yang (2020) käsittelivät artikkelissaan. Erityisesti terveystietoja käsittelevä data on mielestäni hyvin arkaluonteista ja artikkelissa olikin tästä hyvä esimerkki, kuinka apteekit ovat käyttäneet saamaansa terveysdataa markkinoidakseen tuotteita kohdistetusti.\n",
    "\n",
    "Viittaus etnografiaan oli mielenkiintoinen. Olen sivuaineena opiskellut sosiaalitieteitä ja muun muassa antropologiaa, jossa etnografinen tutkimus on aivan keskiössä. Ennen vertauksen kuulemista pidin antropologin ja data-analyytikon työtehtäviä suurin piirtein niin erilaisina kuin mahdollista, mutta on hyvinkin totta, että dataa tutkiessa on ymmärrettävä mistä se on peräisin, millaisia asioita datasta halutaan selvittää eli millainen data on arvokasta ja tärkeää sekä ymmärtää ympäröivä liiketoimintakonteksti. Samoin antropologi haluaa ihmisryhmää seuratessaan oppia ymmärtämään ryhmän historiaa, arvoja, kulttuuria ja ympäristöä. Metodit ihmisryhmien ja datan tutkimiseen voivat olla erilaiset, mutta ydinkysymykset tutkimisessa ovat yllättävän lähellä toisiaan. Koska aihe oli niin mielenkiintoinen, tutustuin luennolla vinkattuun Lindgrenin \"Data Theory\"-kirjaan (kirja löytyi Andorista). Kirjassa korostettiin muun muassa sitä, että laadullisia ja määrällisiä menetelmiä voi olla vaikea soveltaa yhdessä, mutta tällainen tutkimus olisi ensiarvoisen tärkeää, sillä ilman molempia tutkimustapoja esimerkiksi sosiaalisista ilmiöistä tulee yksipuolinen kuva.\n",
    "\n",
    "Tavoitteinani kurssille on oppia käyttämään uusia työkaluja (mm. Jupyter Notebook, Pandas), parantaa koodaustaitojani, oppia koneoppimisen perusteita ja harjoitella harjoitustyön kautta, miten käytännössä data-analytiikkaa voidaan tehdä. Tekninen osaamiseni ei ole kovin vahvaaa, joten pyrin keskittymään kurssilla erityisten uusien työkalujen oppimiseen ja teknisen ymmärtämisen kasvattamiseen."
   ]
  },
  {
   "cell_type": "markdown",
   "id": "baa922de",
   "metadata": {},
   "source": [
    "Seuraavaki teen yksinkertaisia koodiajoja demo-sessiossa oppimani pohjalta. Koodien pohjana käytetään demosessiossa käytettyjä koodeja."
   ]
  },
  {
   "cell_type": "code",
   "execution_count": 12,
   "id": "9e0d5331-969a-4f80-84cc-3fd4ff9f6377",
   "metadata": {},
   "outputs": [],
   "source": [
    "import pandas as pd\n",
    "import matplotlib.pyplot as plt\n",
    "from matplotlib import style\n",
    "style.use('ggplot')"
   ]
  },
  {
   "cell_type": "code",
   "execution_count": 6,
   "id": "b5dfb032-d8d0-4a41-bd12-86b46a47392d",
   "metadata": {},
   "outputs": [
    {
     "name": "stdout",
     "output_type": "stream",
     "text": [
      "List of attributes: ['Transaction_date', 'Product', 'Price', 'Payment_Type', 'Name', 'City', 'State', 'Country', 'Account_Created', 'Last_Login', 'Latitude', 'Longitude']\n"
     ]
    }
   ],
   "source": [
    "url = 'https://github.com/jodatut/2020/raw/master/koodiesimerkit/SalesJan2009.csv'\n",
    "\n",
    "orig_df = pd.read_csv(url)\n",
    "\n",
    "# Tehdään kopio, jotta alkuperäinen data säilyy\n",
    "df = orig_df.copy()\n",
    "print('List of attributes:', df.columns.values.tolist())"
   ]
  },
  {
   "cell_type": "code",
   "execution_count": 13,
   "id": "be425f34-2784-456c-8e67-38bbb237c918",
   "metadata": {},
   "outputs": [
    {
     "name": "stdout",
     "output_type": "stream",
     "text": [
      "['United Kingdom', 'United States', 'Australia', 'Israel', 'France', 'Netherlands', 'Ireland', 'Canada', 'India', 'South Africa', 'Finland', 'Switzerland', 'Denmark', 'Belgium', 'Sweden', 'Norway', 'Luxembourg', 'Italy', 'Germany', 'Moldova', 'Spain', 'United Arab Emirates', 'Bahrain', 'Turkey', 'Kuwait', 'Malta', 'Hungary', 'Austria', 'Jersey', 'Malaysia', 'Iceland', 'South Korea', 'Brazil', 'New Zealand', 'Russia', 'Monaco', 'Hong Kong', 'Thailand', 'Bulgaria', 'Latvia', 'Poland', 'Philippines', 'Argentina', 'The Bahamas', 'Japan', 'Czech Republic', 'Cayman Isls', 'Ukraine', 'Dominican Republic', 'China', 'Greece', 'Costa Rica', 'Bermuda', 'Romania', 'Guatemala', 'Mauritius']\n"
     ]
    }
   ],
   "source": [
    "# Selvitetään, missä maissa transaktioita on tehty\n",
    "countries = []\n",
    "def country_list(x):\n",
    "    for x in df['Country']:\n",
    "        if x in countries:\n",
    "            pass\n",
    "        else:\n",
    "            countries.append(x)\n",
    "            \n",
    "country_list(df['Country'])\n",
    "        \n",
    "print (countries)  "
   ]
  },
  {
   "cell_type": "code",
   "execution_count": 16,
   "id": "d8fb989e-f2b1-40df-ad02-2719206d2c3b",
   "metadata": {},
   "outputs": [
    {
     "name": "stdout",
     "output_type": "stream",
     "text": [
      "United States           464\n",
      "United Kingdom          101\n",
      "Canada                   76\n",
      "Ireland                  49\n",
      "Australia                38\n",
      "Switzerland              36\n",
      "France                   27\n",
      "Germany                  25\n",
      "Netherlands              22\n",
      "Norway                   16\n",
      "Denmark                  15\n",
      "Italy                    15\n",
      "Sweden                   13\n",
      "Spain                    12\n",
      "Belgium                   8\n",
      "Austria                   7\n",
      "Turkey                    6\n",
      "New Zealand               6\n",
      "United Arab Emirates      6\n",
      "South Africa              5\n",
      "Brazil                    5\n",
      "Hungary                   3\n",
      "Czech Republic            3\n",
      "Philippines               2\n",
      "Poland                    2\n",
      "The Bahamas               2\n",
      "Finland                   2\n",
      "Japan                     2\n",
      "Malta                     2\n",
      "India                     2\n",
      "Thailand                  2\n",
      "Monaco                    2\n",
      "Cayman Isls               1\n",
      "Bermuda                   1\n",
      "Guatemala                 1\n",
      "Ukraine                   1\n",
      "Romania                   1\n",
      "China                     1\n",
      "Greece                    1\n",
      "Costa Rica                1\n",
      "Argentina                 1\n",
      "Dominican Republic        1\n",
      "Jersey                    1\n",
      "Latvia                    1\n",
      "Bulgaria                  1\n",
      "Hong Kong                 1\n",
      "Russia                    1\n",
      "South Korea               1\n",
      "Iceland                   1\n",
      "Malaysia                  1\n",
      "Kuwait                    1\n",
      "Bahrain                   1\n",
      "Moldova                   1\n",
      "Luxembourg                1\n",
      "Israel                    1\n",
      "Mauritius                 1\n",
      "Name: Country, dtype: int64\n"
     ]
    }
   ],
   "source": [
    "#Tehdään maakohtainen pylväsdiagrammi transaktioihin käytetyn rahan mukaan, jossa mukana 5 suosituinta maata\n",
    "\n",
    "# Selvitetään, kuinka paljon transaktioita on missäkin maassa\n",
    "payment_values = df['Country'].value_counts()\n",
    "print(payment_values)"
   ]
  },
  {
   "cell_type": "code",
   "execution_count": 17,
   "id": "e32ccf01",
   "metadata": {},
   "outputs": [
    {
     "data": {
      "image/png": "[encoded data removed]",
      "text/plain": [
       "<Figure size 936x576 with 1 Axes>"
      ]
     },
     "metadata": {},
     "output_type": "display_data"
    }
   ],
   "source": [
    "US = df.loc[:,['Price', 'Country']]\n",
    "US = US[US['Country'] == 'United States']\n",
    "\n",
    "UK = df.loc[:,['Price', 'Country']]\n",
    "UK = UK[UK['Country'] == 'United Kingdom']\n",
    "\n",
    "Canada = df.loc[:,['Price', 'Country']]\n",
    "Canada = Canada[Canada['Country'] == 'Canada']\n",
    "\n",
    "Ireland = df.loc[:,['Price', 'Country']]\n",
    "Ireland = Ireland[Ireland['Country'] == 'Ireland']\n",
    "\n",
    "Australia = df.loc[:,['Price', 'Country']]\n",
    "Australia = Australia[Australia['Country'] == 'Australia']\n",
    "\n",
    "sum_US = sum(US['Price'])\n",
    "sum_UK = sum(UK['Price'])\n",
    "sum_Canada = sum(Canada['Price'])\n",
    "sum_Ireland = sum(Ireland['Price'])\n",
    "sum_Australia = sum(Australia['Price'])\n",
    "\n",
    "df_plot = pd.DataFrame([[sum_US, sum_UK, sum_Canada, sum_Ireland, sum_Australia]])\n",
    "df_plot.columns = ['US', 'UK', 'Canada', 'Ireland', 'Australia']\n",
    "\n",
    "df_plot.plot.bar(figsize=(13,8))\n",
    "\n",
    "plt.legend(loc=2)\n",
    "plt.ylabel('Sum $')\n",
    "plt.show()"
   ]
  },
  {
   "cell_type": "markdown",
   "id": "ca6b0362-4534-4f63-afb5-49c146ce6cc1",
   "metadata": {},
   "source": [
    "Viisi tärkeintä asiaa tältä viikolta:\n",
    "1. Viestinnän rooli data-analytiikan prosessissa jää helposti huomiotta, vaikka se on todella tärkeä\n",
    "2. Jupyter Notebook on datan kanssa työskentelyyn hyvä työkalu, ja sillä on helppoa sekä ajaa koodia että tehdä visualisointeja\n",
    "3. CRISP-DM on yksi tunnetuimmista ja suosituimmista prosessikuvauksista, jota käytetään dataprosesseissa\n",
    "4. Datan kanssa työskentelevillä on myös vastuu datan käytöstä ja eettiset näkökulmiin kannattaa kiinnittää huomiota\n",
    "5. Etnografialla ja datatieteellä voidaan nähdä yllättäviä yhtäläisyyksiä"
   ]
  },
  {
   "cell_type": "markdown",
   "id": "bbe9ebfa-d26e-403e-a733-a5a1fb35c7a5",
   "metadata": {},
   "source": [
    "Lähteet:\n",
    "- Luento 9.3. (paikan päällä) + demosessio (katsottu tallenteelta)\n",
    "- Lou & Yang (2020) \"A Beginner's Guide to Data Ethics\" Saatavilla: https://medium.com/big-data-at-berkeley/things-you-need-to-know-before-you-become-a-data-scientist-a-beginners-guide-to-data-ethics-8f9aa21af742\n",
    "- Rosling \"The best stats you've ever seen\" TED-talk Saatavilla: https://www.ted.com/talks/hans_rosling_the_best_stats_you_ve_ever_seen\n",
    "- Lindgren (2020) \"Data Theory: Interpretive Sociology and Computational Methods\""
   ]
  },
  {
   "cell_type": "markdown",
   "id": "651be15f",
   "metadata": {},
   "source": [
    "# Viikko 2"
   ]
  },
  {
   "cell_type": "markdown",
   "id": "512e987e",
   "metadata": {},
   "source": [
    "Tällä viikolla kävimme aluksi vielä lyhyesti läpi erilaisia prosessimalleja, joita voidaan hyödyntää data-analyysissa. Vaikka asia ei ollut minulle täysin uutta, luento muistutti datan jalostamisen tärkeydestä ja siitä, että siihen kuluu usein suurin osa käytettävästä ajasta. Lisäksi luennoitsija antoi hyvän muistutuksen siitä, että datan jalostajan ennakko-oletukset vaikuttavat siihen, miten dataa jalostetaan. Tämä on mielestäni äärimmäisen tärkeää tiedostaa.\n",
    "\n",
    "Luennon ennakkolukemisena oli Scott Berinaton (2019) artikkeli, joka oli mielestäni hyvin mielenkiintoinen. Artikkelissa kuvattiin datatieteen muuttumista ajan saatossa ja analytiikkaprosessissa vastaan tulevia suurimpia ongelmia, jotka liittyvät usein raportointiin ja tulosten esittämiseen. Tämä johtuu siitä, että päätösten tekijät ja data-analyytikot eivät välttämättä ymmärrä toisiaan ja liiketoiminnan näkökulma ei välttämättä ole ollut prosessissa tarpeeksi suuressa valossa. Suurin oivallus artikkelissa oli itselleni kuitenkin se, että dataprojektitiimiä muodostettaessa kannattaa keskittyä ammattinimikkeiden sijaan ihmisten taitoihin, eli sen sijaan että tiimiin etsitään data-analyytikkoa, datainsinööriä ja designeria, etsitään projektiin taitoja projektin hallinnasta, datan käsittelystä, data-analyysista, tarinan kerronnasta ja niin edelleen. Tämä oli mielestäni virkistävä näkökulma ja ottaa hyvin huomioon sen, että esimerkiksi jokaisella yksilöllä on omat vahvuutensa. Vaikka nykyisillä opinnoillani tähtään data-analyytikon ammattiin, valmistuin muutamia vuosia sitten filosofian maisteriksi monikielisestä viestinnästä. Toivon, että tulevaisuuden työpaikassani minua ei nähtäisi pelkän \"data-analyytikon\"-tittelin kautta, vaan pystyisin mahdollisuuksien mukaan hyödyntämään myös viestinnän osaamistani. Luennollakin pohdimme, että kannattaako mieluummin erikoistua niin, että osaa jonkin asian todella hyvin, vai onko parempi omata laaja osaaminen eri asioista, jotka eivät mene niin syvälle. Itse kannatan jälkimmäistä ja nykyään työelämässä on tärkeää kehittää omaa osaamistaan jatkuvasti, joten on tärkeää myös oppia, miten uusia asioita opitaan ja olla motivoitunut tekemään niin.\n",
    "\n",
    "\n",
    "Luennolla mainittiin lyhyesti \"unknown unknows\" ja mustat joutsenet. Molemmat termit ovat itselleni tuttuja, ja pidän tärkeänä, että esimerkiksi tiedostamattomien ei-tiedettyjen asioiden (tai mikä ikinä olisikaan näppärä käännös...) olemassaolo tiedostetaan. Tällä en tarkoita, että nämä asiat pyrittäisiin kaikin keinoin löytämään, sillä se ei ole mahdollista, vaan oltaisiin tietoisia, että esimerkiksi projektin aikana vastaan voi tulla asioita, joihin ei voida varautua. Tietynlainen ketteryys ja resilienssi on siis pidettävä mielessä, vaikka projektin suunnittelu tehtäisiin mahdollisimman huolellisesti. Hyvä keino on suosittu \"scrum\", jota käytetään esimerkiksi ohjelmistoprojekteissa. Scrumin mukaan ohjelmaa luodaan pieni osa kerrallaan, ja tämä mahdollistaa tarvittaessa nopeat muutokset projektissa. Mustat joutsenet ovat puolestaan itselleni tuttu termi Talebin (2007) kirjoittamasta kirjasta \"Musta joutsen: Erittäin epätodennäköisen vaikutus\". Mustat joutsenet ovat odottamattomia ja erittäin epätodennäköisiä tapahtumia, joita Talebin mukaan kuitenkin todennäköisesti tapahtuu. Taleb käyttää kirjassaan esimerkkiä 9/11-iskusta, mutta mustiksi joutseniksi voidaan nähdä myös COVID-19 ja Ukrainan sota.\n",
    "\n",
    "Tällä viikolla opimme raapijoista ja ryömijöistä. Molemmat termit olivat itselleni uusia. Raapijoilla ja ryömijöillä saadaan kerättyä nettisivuilta dataa automatisoidusti. Ryömijä käy nettiosoitteita järjestelmällisesti läpi ja raapija kerää nettisivuilla olevat tiedot. Raapijoiden ja ryömijöiden käytössä on kuitenkin otettava huomioon niiden eettisyys: Osa nettisivuista ei halua, että niiden sisältöä kerätään. Tämä johtuu muun muassa siitä, että raavintaa käytetään usein tavoitteena saada liiketoiminnallista hyötyä, raavinnassa ei huomioida tekijänoikeuslakia tai sivujen käyttöehtoja ja raavinta voi olla nettisivulle haitallista, esimerkiksi lisätä sivun kuormitusta ja kiertää turvallisuustoimia (Bernard 2017).\n",
    "\n",
    "Seuraavaksi scrapy-kirjaston harjoittelua demosession pohjalta:"
   ]
  },
  {
   "cell_type": "code",
   "execution_count": 25,
   "id": "b9fbd318",
   "metadata": {},
   "outputs": [
    {
     "name": "stdout",
     "output_type": "stream",
     "text": [
      "C:\\Users\\jenna\\amazon_scraper.py already exists\n"
     ]
    }
   ],
   "source": [
    "!scrapy genspider amazon_scraper amazon.com\n",
    "\n",
    "import scrapy\n",
    "\n",
    "class AmazonScraperSpider(scrapy.Spider):\n",
    "    name = 'amazon_scraper'\n",
    "    allowed_domains = ['amazon.com']\n",
    "    sstart_urls = ['https://www.amazon.com/Apple-iPhone-Verizon-Unlocked-Renewed/product-reviews/B07HYDFX8G/ref=cm_cr_arp_d_viewopt_srt?ie=UTF8&reviewerType=all_reviews&sortBy=helpful&pageNumber=1%27]']\n",
    "    \n",
    "    def parse(self, response):\n",
    "        \n",
    "        review_texts = response.css('.a-size-base.review-text')\n",
    "        \n",
    "        for i in range(len(review_texts)):\n",
    "            review_texts[i] = \"\".join(review_texts[i].css('::text').extract()).strip()\n",
    "\n",
    "        review_ratings = response.css('[data-hook=\"review-date\"] > span::text').extract()\n",
    "\n",
    "        for i in range(len(review_texts)):\n",
    "            review = {\n",
    "                'text' : review_texts[i],\n",
    "                'date': review_date[i]\n",
    "            }\n",
    "            yield review"
   ]
  },
  {
   "cell_type": "markdown",
   "id": "88b4310e",
   "metadata": {},
   "source": [
    "Lähteet:\n",
    "- Luento 16.3. (katsottu tallenteelta) + demosessio (katsottu tallenteelta) \n",
    "-Berinato, S (2019). \"Data Science and the Art of Persuasion\". Harvard Business Review. Saatavilla:https://hbr.org/2019/01/data-science-and-the-art-of-persuasion?utm_campaign=hbr&utm_medium=social&utm_source=twitter \n",
    "-Bernard, B (2017). \"Web Scraping and Crawling Are Perfectly Legal, Right?\" Blogiteksti. Saatavilla: https://benbernardblog.com/web-scraping-and-crawling-are-perfectly-legal-right/\n",
    "-Taleb, N (2007). \"Musta joutsen: Erittäin epätodennäköisen vaikutus\". Helsinki: Terra Cognita."
   ]
  },
  {
   "cell_type": "markdown",
   "id": "757b0ecb",
   "metadata": {},
   "source": [
    "# Viikko 3"
   ]
  },
  {
   "cell_type": "markdown",
   "id": "e76a8d9b",
   "metadata": {},
   "source": [
    "Ohjattu ja ohjaamaton oppiminen: Ohjatussa ensin syötetään olemassa olevaa dataa ja tsekataan kuinka paljon saadaan oikein. Kun ohjelma on oppinut tarpeeksi tarkaksi, testataan \"oikealla\" datalla ennustamista.\n",
    "\n",
    "Kasvojen tunnistuksen eettisyys (maksaminen omalla naamalla)"
   ]
  },
  {
   "cell_type": "markdown",
   "id": "802cf27c",
   "metadata": {},
   "source": [
    "# Viikko 4"
   ]
  },
  {
   "cell_type": "markdown",
   "id": "ceabff55",
   "metadata": {},
   "source": [
    "Luennolla kävimme läpi konkretian kautta datatiedeprosessin ensimmäistä vaihetta, eli pohdimme muun muassa millaisiin kysymyksiin harjoitustyössä lähdetään etsimään vastauksia. Vaikka CRISP-DM malli on itselleni jo teoriassa hyvin tuttu, oli mielestäni hyvä muistuttaa vielä kerran, että datatiedeprosesseissa pitäisi lähteä aina siitä, että mietitään mihin liiketoiminnan ongelmaan halutaan vastaus. Pohdimme pienryhmissä muun muassa sitä, millaisia palveluja eri asiakasryhmät haluavat AirBnB-asunnolta, millaisia eroja lyhyen ja pitkän aikavälin tarpeissa on ja minkä maalaisia asiakkaita tietyllä alueella/tiettyä asuntoa vuokraa. Nämä kaikki kysymykset vastaavat periaatteessa kysymyksiin \"miten asiakkaalle saadaan luotua mahdollisimman paljon arvoa?\", mutta tämä kysymys on todella laaja ja on siksi tarpeen tarkastella sitä pienemmissä osissa. Lisäksi voidaan nähdä, että kaikkien kysymysten perimmäisenä tarkoituksena on asunnon tarjoajan näkökulmasta kasvattaa asunnon houkuttelevuutta ja saada sen avulla enemmän asiakkaita. Asiakkaan näkökulmasta tavoitteena on tehdä entistä sopivampia asiakkaan tarpeisiin ja AirBnB tähtää siihen, että asunnon tarjoajan ja asunnon vuokraajan tarpeet täyttyvät mahdollisimman hyvin, jolloin palvelun käyttöä halutaan jatkaa myös tulevaisuudessa ja mahdollisesti myös suositella tuttaville.\n",
    "\n",
    "Ongelma: Ulkomaalaiset eivät osaa käyttää laitteita, esim. saunan käyttö vois luoda arvoo mutta ei ole tuttu, laitteet rikkoutuu jos ei osata käyttää, kielimuuri"
   ]
  },
  {
   "cell_type": "markdown",
   "id": "893fde91",
   "metadata": {},
   "source": [
    "# Viikko 5\n",
    "Tekstidatan luokittelu kiinnostaa itseäni suuresti. Kääntämisopinnot, korpusanalyysit yms.\n",
    "-NLP on monimuotoista, kompleksista ja rakeetonta, joten hankalampi käyttää koneoppimisessa  tärkeää tekstin esikäsittely ja muuttaminen sellaiseen muotoon että kone pystyy sitä käyttämään\n",
    "-käyttökohteet: automaattikäännökset, chat-botit\n",
    "-Prosessin vaiheet: Haetaan pakettidata ja hukkasanalista, asennetaan tarvittavat kirjastot, hukkasanojen määrittäminen (”ei, eikä” onko hukkasana? Kohinan poisto)\n",
    "-Käytetään opetusdataa (osa datasta pitää käyttää testaamiseen ja jos testaillaan samalla setillä kuin mitä malli on opetettu niin totta kai mätsit täydellisiä)\n",
    "-Onko joku osa-alue yliedustettu tai aliedustettu opetusdatassa? Jos karsitaan niin opetusdatan määrä pienenee ja oppiminen vaikeutuu\n",
    "-Esikäsittely: poistetaan isot alkukirjaimet, välimerkit, hukkasanat, sanat perusmuotoon (suomen kielessä hukataan informaatiota mutta toisaalta datasta saadaan yhdenmukaisempaa) Jos poistetaan kaikki kahden merkin mittaiset sanat, niin tippuu varmaan myös lyhenteet ”EU” yms. pois, mutta toisaalta voidaan tehdä myös erillisiä listoja johon hyväksytään tietyt lyhenteet. Data-analyytikko joutuu tekemään valintoja!  Data-analyytikko voi tehdä sellaisia valintoja jotka vastaavat omia ajatuksia (esim. tekemällä tällaisia listoja), jolloin tulee biaksia ja löytyy vaan sellasia asioita joita halutaan löytää. Valintoja pitää tehdä mutta ne pitää tiedostaa!\n",
    "Mallin opettamiseen muutetaan label ja prepared muotoisiksi, jotta kone pystyy oppimaan sitä paremmin\n",
    "Kirjataan data pandakseen, tutkitaan sanojen vektoriesityksiä (fastText NLP-kirjasto, vertaa sanoja niiden kontekstiin ja vieressä oleviin sanoihin) (suomen kielessä sama sana tarkoittaa eri asioita ”kuusi” yms.)\n",
    "\n",
    "ylioppiminen: kone tuntee jonkun datan liian hyvin tai alioppiminen eli ei löydetä tarpeellista sisältöä\n",
    "onko luotettava mittari tekoälyyn se, kuinka usein löytää oikean arvion? Kannattaa huomioida onko jakauma tasainen, onko moninaiset tunnusluvut?\n",
    "confusion matrix\n",
    "\n",
    "https://www.slideshare.net/minesh1291/confusion-matrix-and-classification-evaluation-metrics\n",
    "Tämä oli aivan hauska esimerkki: https://ropengov.org/fi/2015/04/vaalit2015-luokittelu/\n"
   ]
  },
  {
   "cell_type": "markdown",
   "id": "8886c55d",
   "metadata": {},
   "source": [
    "# Viikko 6"
   ]
  },
  {
   "cell_type": "markdown",
   "id": "273da7ff",
   "metadata": {},
   "source": [
    "Olin paikalla luennolla.\n",
    "\n",
    "Ohjatussa oppimisessa tiedossa mitä muuttujaa halutaan ennustaa, \"label\" tiedossa\n",
    "Ohjaamattomassa oppimisessa on lähtödata, tunnistetaan piirteitä ja tehdään matriisi, opetetaan mallia ja arvioidaan sen suorituskykyä.\n",
    "Malli ei ole kuin ohjatussa oppimisessa eli ei oo jotain tiettyä muuttujaa jota halutaan ennustaa, vaan käytetään esim. klusterointia. Kun \n",
    "klusterit tiedossa, niin arvioidaan kuinka luotettavia klusterit on (esim. asiakassegmentit), korostuu laadullinen arviointi.\n",
    "Tämän jälkeen voidaan ennustaa, mihin klusteriin joku asiakas kuuluisi jne. \n",
    "\n",
    "Aiheanalyysi: tunnistetaan tekstistä aiheita. Myös ostoskorianalyysi on ohjaamatonta oppimista (näytetään kiinnostavia asioita tai esimerkiks piilotetaan sopivia osumia Netflixissä)\n",
    "\n",
    "Ryvästäminen: Voidaan tehdä moniuloitteisessa maailmassa (otetaan eri tekijöitä huomioon eikä vain x- ja y-akselit). Vaihtoehto on laittaa ryppään keskelle joku keskipiste.\n",
    "Kannattaa ryvästäessä miettiä, mitkä on oleellisia arvoja. Lisäksi voidaan normalisoida muuttujat (esim. min arvo 0 ja max 1 ja kaikki muut arvot tulee siihen väliin), mutta jos aineistossa on joku poikkeava arvo, niin yksittäinen arvo saattaa vääristää\n",
    "esim. max-arvoa. Voidaanko \"oudokkeja\" poistaa? --> Pitää kertoa selkeästi ja läpinäkyvästi jos niin tehdään\n",
    "Onko datassa totuus vai työnnetäänkö prosessissa omaa totuutta dataan?\n",
    "\n",
    "KMeans: annetaan algoritmille tieto, kuinka monta klusteria halutaan löytää.\n",
    "    \n",
    "Kyynärpääperiaate: Vertaillaan eri klustereiden määrillä milloinen virheen määrän pieneneminen ei enää merkittävästi muutu\n",
    "Jotta voidaan järkevästi ryvästää, niin pitää tuntee dataa ja tietää millaisten asioiden mukaan kannattaisi ryvästämistä tehdä, jotta saadaan merkityksellisiä tuloksia.\n",
    "  Aihemallinnus: \"etälukeminen\" eli ei tarvi ite lukee vaan tietokone käy aineiston läpi (kerrotaan jotain sanayhdistelmiä josita teemat voi tunnistaa), \"lähilukeminen\" sitä että esim. etnografi vastuussa ja laadullinen tulkinta mukana, teemojen tunnistaminen yms.\n",
    "  \n",
    "Datan jalostaminen on kallista, jos sitä ei voi tehdä koneella\n",
    "  \n",
    " Subjektiivinen/objektiivinen analyysi? Varsinkin aihemallinnus on subjektiivistä ja tämä on tärkeää hahmottaa."
   ]
  }
 ],
 "metadata": {
  "kernelspec": {
   "display_name": "Python 3 (ipykernel)",
   "language": "python",
   "name": "python3"
  },
  "language_info": {
   "codemirror_mode": {
    "name": "ipython",
    "version": 3
   },
   "file_extension": ".py",
   "mimetype": "text/x-python",
   "name": "python",
   "nbconvert_exporter": "python",
   "pygments_lexer": "ipython3",
   "version": "3.9.7"
  }
 },
 "nbformat": 4,
 "nbformat_minor": 5
}
